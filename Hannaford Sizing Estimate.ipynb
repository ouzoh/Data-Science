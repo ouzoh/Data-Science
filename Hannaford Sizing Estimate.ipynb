{
 "cells": [
  {
   "cell_type": "markdown",
   "metadata": {},
   "source": [
    "# Hannaford Sizing Estimate"
   ]
  },
  {
   "cell_type": "code",
   "execution_count": 16,
   "metadata": {
    "collapsed": false
   },
   "outputs": [
    {
     "name": "stdout",
     "output_type": "stream",
     "text": [
      " Volume in drive C is OSDisk\n",
      " Volume Serial Number is 6A99-0C8A\n",
      "\n",
      " Directory of C:\\Users\\1447308\\Desktop\n",
      "\n",
      "12/12/2016  11:15 AM             2,266 sample.json\n",
      "               1 File(s)          2,266 bytes\n",
      "               0 Dir(s)  19,841,773,568 bytes free\n"
     ]
    }
   ],
   "source": [
    "#check sample file\n",
    "%ls \"Desktop\\sample.json\""
   ]
  },
  {
   "cell_type": "code",
   "execution_count": 24,
   "metadata": {
    "collapsed": false
   },
   "outputs": [
    {
     "name": "stdout",
     "output_type": "stream",
     "text": [
      "2266\n"
     ]
    }
   ],
   "source": [
    "#check size of 1 file\n",
    "import os\n",
    "print (os.stat(\"Desktop\\sample.json\").st_size)"
   ]
  },
  {
   "cell_type": "markdown",
   "metadata": {},
   "source": [
    "* The size for one customer is approximately **2266 Bytes**"
   ]
  },
  {
   "cell_type": "code",
   "execution_count": 45,
   "metadata": {
    "collapsed": false
   },
   "outputs": [
    {
     "name": "stdout",
     "output_type": "stream",
     "text": [
      "2266000000.0 B\n"
     ]
    }
   ],
   "source": [
    "#check size for 1 million customers\n",
    "size_1_mill=os.stat(\"Desktop\\sample.json\").st_size*1000000\n",
    "print(str(float(size_1_mill))+ \" B\")"
   ]
  },
  {
   "cell_type": "code",
   "execution_count": 46,
   "metadata": {
    "collapsed": false
   },
   "outputs": [
    {
     "name": "stdout",
     "output_type": "stream",
     "text": [
      "2266.0 MB\n",
      "2.266 GB\n"
     ]
    }
   ],
   "source": [
    "#convert to MB and GB\n",
    "print (str(size_1_mill/float(10**6)) +\" MB\")\n",
    "print (str(size_1_mill/float(10**9))+\" GB\")"
   ]
  },
  {
   "cell_type": "markdown",
   "metadata": {},
   "source": [
    "The size for one million customers is approximately **2.266 GB**"
   ]
  },
  {
   "cell_type": "markdown",
   "metadata": {},
   "source": [
    "## Sample of one file"
   ]
  },
  {
   "cell_type": "markdown",
   "metadata": {},
   "source": [
    "```json\n",
    "{\n",
    "  \"id\": \"1234567890\",\n",
    "  \"key\": \"1234567890\",\n",
    "  \"value\": {\n",
    "    \"rev\": \"552-ba3970cd3132ad4c295a55d4318ee56e\"\n",
    "  },\n",
    "  \"doc\": {\n",
    "    \"_id\": \"1234567890\",\n",
    "    \"_rev\": \"552-ba3970cd3132ad4c295a55d4318ee56e\",\n",
    "    \"doc_type\": \"savings\",\n",
    "    \"savings\": {\n",
    "      \"Hannaford_Loyalty_Card_Num\": \"1234567890\",\n",
    "      \"Coupon_Savings_Current_YTD\": \"123.45\",\n",
    "      \"Coupon_Savings_Previous_YTD\": \"456.78\",\n",
    "      \"Coupon_Savings_2nd_Previous_YTD\": \"543.21\",\n",
    "      \"Coupon_Savings_Current_Quarter\": \"50.12\",\n",
    "      \"Coupon_Savings_Previous_Quarter\": \"51.48\",\n",
    "      \"Coupon_Savings_2nd_Previous_Quarter\": \"50.12\",\n",
    "      \"Coupon_Savings_3rd_Previous_Quarter\": \"51.48\",\n",
    "      \"Coupon_Savings_4th_Previous_Quarter\": \"50.12\",\n",
    "      \"Coupon_Savings_5th_Previous_Quarter\": \"51.48\",\n",
    "      \"Coupon_Savings_6th_Previous_Quarter\": \"50.12\",\n",
    "      \"Coupon_Savings_7th_Previous_Quarter\": \"51.48\",\n",
    "      \"Coupon_Savings_8th_Previous_Quarter\": \"50.12\",\n",
    "      \"Coupon_Savings_9th_Previous_Quarter\": \"51.48\",\n",
    "      \"Coupon_Savings_10th_Previous_Quarter\": \"50.12\",\n",
    "      \"Coupon_Savings_11th_Previous_Quarter\": \"51.48\",\n",
    "      \"Coupon_Savings_12th_Previous_Quarter\": \"50.12\",\n",
    "      \"Reward_Savings_Current_YTD\": \"15.25\",\n",
    "      \"Reward_Savings_Previous_YTD\": \"20.45\",\n",
    "      \"Reward_Savings_2nd_Previous_YTD\": \"14.22\",\n",
    "      \"Reward_Earned_Current_Quarter\": \"3.25\",\n",
    "      \"Reward_Eligible_Current_Quarter\": \"3.35\",\n",
    "      \"Reward_Redeemed_Current_Quarter\": \"2.35\",\n",
    "      \"Reward_Savings_Previous_Quarter\": \"2.45\",\n",
    "      \"Reward_Savings_2nd_Previous_Quarter\": \"0.00\",\n",
    "      \"Reward_Savings_3rd_Previous_Quarter\": \"5.66\",\n",
    "      \"Reward_Savings_4th_Previous_Quarter\": \"4.89\",\n",
    "      \"Reward_Savings_5th_Previous_Quarter\": \"10.54\",\n",
    "      \"Reward_Savings_6th_Previous_Quarter\": \"9.56\",\n",
    "      \"Reward_Savings_7th_Previous_Quarter\": \"8.51\",\n",
    "      \"Reward_Savings_8th_Previous_Quarter\": \"4.87\",\n",
    "      \"Reward_Savings_9th_Previous_Quarter\": \"4.23\",\n",
    "      \"Reward_Savings_10th_Previous_Quarter\": \"4.11\",\n",
    "      \"Reward_Savings_11th_Previous_Quarter\": \"2.11\",\n",
    "      \"Reward_Savings_12th_Previous_Quarter\": \"0.47\",\n",
    "      \"Rewards_Forfeited_Previous Quarter\": \"0.00\",\n",
    "      \"Rewards_Forfeited_YTD\": \"2.85\",\n",
    "      \"last_update_timestmp\": \"2016-12-05 13:46:17\"\n",
    "    }\n",
    "  }\n",
    "}\n",
    "```"
   ]
  },
  {
   "cell_type": "code",
   "execution_count": null,
   "metadata": {
    "collapsed": true
   },
   "outputs": [],
   "source": [
    "## Growth Rate Estimate = 20%\n",
    "## https://techcrunch.com/2013/08/24/how-fast-should-you-be-growing/\n",
    "growth_rate = 0.1"
   ]
  }
 ],
 "metadata": {
  "anaconda-cloud": {},
  "kernelspec": {
   "display_name": "Python [Root]",
   "language": "python",
   "name": "Python [Root]"
  },
  "language_info": {
   "codemirror_mode": {
    "name": "ipython",
    "version": 2
   },
   "file_extension": ".py",
   "mimetype": "text/x-python",
   "name": "python",
   "nbconvert_exporter": "python",
   "pygments_lexer": "ipython2",
   "version": "2.7.12"
  }
 },
 "nbformat": 4,
 "nbformat_minor": 0
}
