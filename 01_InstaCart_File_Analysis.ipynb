{
 "cells": [
  {
   "cell_type": "markdown",
   "metadata": {},
   "source": [
    "# Coupon Analysis"
   ]
  },
  {
   "cell_type": "code",
   "execution_count": 16,
   "metadata": {
    "collapsed": true
   },
   "outputs": [],
   "source": [
    "#read input file\n",
    "insta_file = pd.read_csv('Instacart.csv', dtype=str)"
   ]
  },
  {
   "cell_type": "code",
   "execution_count": 79,
   "metadata": {
    "collapsed": false
   },
   "outputs": [
    {
     "data": {
      "text/html": [
       "<div>\n",
       "<table border=\"1\" class=\"dataframe\">\n",
       "  <thead>\n",
       "    <tr style=\"text-align: right;\">\n",
       "      <th></th>\n",
       "      <th>StoreNumber</th>\n",
       "      <th>SalesDepartmentDescription</th>\n",
       "      <th>UPCNumber</th>\n",
       "      <th>UPCDescription</th>\n",
       "      <th>UPCUnitOfMeasureSize</th>\n",
       "      <th>ItemNumber</th>\n",
       "      <th>SubCategoryDescription</th>\n",
       "      <th>MajorCategoryDescription</th>\n",
       "      <th>SuperCategoryDescription</th>\n",
       "      <th>Price</th>\n",
       "      <th>...</th>\n",
       "      <th>sale_price</th>\n",
       "      <th>sale_start_at</th>\n",
       "      <th>sale_end_at</th>\n",
       "      <th>Alcoholic</th>\n",
       "      <th>Taxable</th>\n",
       "      <th>SuperCategoryNumber</th>\n",
       "      <th>MajorCategoryNumber</th>\n",
       "      <th>InstaCartDepartment</th>\n",
       "      <th>InstaCartAisle</th>\n",
       "      <th>Available</th>\n",
       "    </tr>\n",
       "  </thead>\n",
       "  <tbody>\n",
       "    <tr>\n",
       "      <th>0</th>\n",
       "      <td>207</td>\n",
       "      <td></td>\n",
       "      <td>124</td>\n",
       "      <td>20# BAG OF ICE LOOKU</td>\n",
       "      <td>20 lb</td>\n",
       "      <td>00000001247847.</td>\n",
       "      <td>ICE</td>\n",
       "      <td>GE-ICE</td>\n",
       "      <td>FROZEN SNACKS</td>\n",
       "      <td>00004.39000000000000000000000000</td>\n",
       "      <td>...</td>\n",
       "      <td></td>\n",
       "      <td></td>\n",
       "      <td></td>\n",
       "      <td>FALSE</td>\n",
       "      <td>TRUE</td>\n",
       "      <td>38</td>\n",
       "      <td>366</td>\n",
       "      <td>Frozen</td>\n",
       "      <td>Ice Cream &amp; Ice</td>\n",
       "      <td>TRUE</td>\n",
       "    </tr>\n",
       "  </tbody>\n",
       "</table>\n",
       "<p>1 rows × 25 columns</p>\n",
       "</div>"
      ],
      "text/plain": [
       "  StoreNumber SalesDepartmentDescription UPCNumber        UPCDescription  \\\n",
       "0         207                                  124  20# BAG OF ICE LOOKU   \n",
       "\n",
       "  UPCUnitOfMeasureSize        ItemNumber SubCategoryDescription  \\\n",
       "0                20 lb   00000001247847.                    ICE   \n",
       "\n",
       "  MajorCategoryDescription SuperCategoryDescription  \\\n",
       "0                   GE-ICE            FROZEN SNACKS   \n",
       "\n",
       "                               Price    ...    sale_price sale_start_at  \\\n",
       "0   00004.39000000000000000000000000    ...                               \n",
       "\n",
       "  sale_end_at Alcoholic Taxable SuperCategoryNumber MajorCategoryNumber  \\\n",
       "0                 FALSE    TRUE                  38                 366   \n",
       "\n",
       "  InstaCartDepartment   InstaCartAisle Available  \n",
       "0              Frozen  Ice Cream & Ice      TRUE  \n",
       "\n",
       "[1 rows x 25 columns]"
      ]
     },
     "execution_count": 79,
     "metadata": {},
     "output_type": "execute_result"
    }
   ],
   "source": [
    "#take a peak at the top of the file\n",
    "insta_file.head(1)"
   ]
  },
  {
   "cell_type": "code",
   "execution_count": 81,
   "metadata": {
    "collapsed": false
   },
   "outputs": [],
   "source": [
    "#get store number and UPC Number\n",
    "store_upc = insta_file[['StoreNumber','UPCNumber']]"
   ]
  },
  {
   "cell_type": "code",
   "execution_count": 83,
   "metadata": {
    "collapsed": false
   },
   "outputs": [
    {
     "data": {
      "text/html": [
       "<div>\n",
       "<table border=\"1\" class=\"dataframe\">\n",
       "  <thead>\n",
       "    <tr style=\"text-align: right;\">\n",
       "      <th></th>\n",
       "      <th>StoreNumber</th>\n",
       "      <th>UPCNumber</th>\n",
       "    </tr>\n",
       "  </thead>\n",
       "  <tbody>\n",
       "    <tr>\n",
       "      <th>0</th>\n",
       "      <td>207</td>\n",
       "      <td>124</td>\n",
       "    </tr>\n",
       "    <tr>\n",
       "      <th>1</th>\n",
       "      <td>207</td>\n",
       "      <td>3112</td>\n",
       "    </tr>\n",
       "  </tbody>\n",
       "</table>\n",
       "</div>"
      ],
      "text/plain": [
       "  StoreNumber UPCNumber\n",
       "0         207       124\n",
       "1         207      3112"
      ]
     },
     "execution_count": 83,
     "metadata": {},
     "output_type": "execute_result"
    }
   ],
   "source": [
    "#take a peek at the store number and UPC Number file\n",
    "store_upc.head(2)"
   ]
  },
  {
   "cell_type": "code",
   "execution_count": 87,
   "metadata": {
    "collapsed": false
   },
   "outputs": [],
   "source": [
    "store_upc_count=store_upc.groupby(by='UPCNumber').count()"
   ]
  },
  {
   "cell_type": "code",
   "execution_count": 91,
   "metadata": {
    "collapsed": true
   },
   "outputs": [],
   "source": [
    "#cross validate the following:: make sure it is working as intended\n",
    "#9955508539 has 3 instances, 9998807139 8 instances and 9998807136 16 instances"
   ]
  },
  {
   "cell_type": "code",
   "execution_count": 98,
   "metadata": {
    "collapsed": false
   },
   "outputs": [
    {
     "name": "stdout",
     "output_type": "stream",
     "text": [
      "StoreNumber    3\n",
      "UPCNumber      3\n",
      "dtype: int64\n",
      "StoreNumber    8\n",
      "UPCNumber      8\n",
      "dtype: int64\n",
      "StoreNumber    16\n",
      "UPCNumber      16\n",
      "dtype: int64\n"
     ]
    }
   ],
   "source": [
    "print store_upc[store_upc['UPCNumber'] == \"9955508539\"].count()\n",
    "print store_upc[store_upc['UPCNumber'] == \"9998807139\"].count()\n",
    "print store_upc[store_upc['UPCNumber'] == \"9998807136\"].count()"
   ]
  },
  {
   "cell_type": "code",
   "execution_count": 59,
   "metadata": {
    "collapsed": true
   },
   "outputs": [],
   "source": [
    "#Count unique store"
   ]
  },
  {
   "cell_type": "code",
   "execution_count": 63,
   "metadata": {
    "collapsed": false
   },
   "outputs": [
    {
     "data": {
      "text/plain": [
       "22"
      ]
     },
     "execution_count": 63,
     "metadata": {},
     "output_type": "execute_result"
    }
   ],
   "source": [
    "store_upc[\"StoreNumber\"].nunique()"
   ]
  },
  {
   "cell_type": "code",
   "execution_count": 99,
   "metadata": {
    "collapsed": false
   },
   "outputs": [
    {
     "data": {
      "text/plain": [
       "19.8"
      ]
     },
     "execution_count": 99,
     "metadata": {},
     "output_type": "execute_result"
    }
   ],
   "source": [
    "#Evaluate what 90% is \n",
    "22*90/100."
   ]
  },
  {
   "cell_type": "code",
   "execution_count": 103,
   "metadata": {
    "collapsed": false
   },
   "outputs": [
    {
     "data": {
      "text/plain": [
       "StoreNumber    27522\n",
       "dtype: int64"
      ]
     },
     "execution_count": 103,
     "metadata": {},
     "output_type": "execute_result"
    }
   ],
   "source": [
    "#count all upcs\n",
    "store_upc_count.count()"
   ]
  },
  {
   "cell_type": "code",
   "execution_count": 105,
   "metadata": {
    "collapsed": false
   },
   "outputs": [
    {
     "data": {
      "text/html": [
       "<div>\n",
       "<table border=\"1\" class=\"dataframe\">\n",
       "  <thead>\n",
       "    <tr style=\"text-align: right;\">\n",
       "      <th></th>\n",
       "      <th>StoreNumber</th>\n",
       "    </tr>\n",
       "    <tr>\n",
       "      <th>UPCNumber</th>\n",
       "      <th></th>\n",
       "    </tr>\n",
       "  </thead>\n",
       "  <tbody>\n",
       "    <tr>\n",
       "      <th>1030000013</th>\n",
       "      <td>21</td>\n",
       "    </tr>\n",
       "    <tr>\n",
       "      <th>1030010279</th>\n",
       "      <td>22</td>\n",
       "    </tr>\n",
       "    <tr>\n",
       "      <th>1030034325</th>\n",
       "      <td>21</td>\n",
       "    </tr>\n",
       "    <tr>\n",
       "      <th>1030034895</th>\n",
       "      <td>21</td>\n",
       "    </tr>\n",
       "    <tr>\n",
       "      <th>1030080893</th>\n",
       "      <td>22</td>\n",
       "    </tr>\n",
       "  </tbody>\n",
       "</table>\n",
       "</div>"
      ],
      "text/plain": [
       "            StoreNumber\n",
       "UPCNumber              \n",
       "1030000013           21\n",
       "1030010279           22\n",
       "1030034325           21\n",
       "1030034895           21\n",
       "1030080893           22"
      ]
     },
     "execution_count": 105,
     "metadata": {},
     "output_type": "execute_result"
    }
   ],
   "source": [
    "#upc that meets 90% criterion\n",
    "store_upc_count[store_upc_count[\"StoreNumber\"] > (store_upc[\"StoreNumber\"].nunique()*90/100)].head()"
   ]
  },
  {
   "cell_type": "code",
   "execution_count": 107,
   "metadata": {
    "collapsed": false
   },
   "outputs": [
    {
     "data": {
      "text/plain": [
       "StoreNumber    35.182763\n",
       "dtype: float64"
      ]
     },
     "execution_count": 107,
     "metadata": {},
     "output_type": "execute_result"
    }
   ],
   "source": [
    "#Percentage of Instances that meets criteria\n",
    "(store_upc_count[store_upc_count[\"StoreNumber\"] > (store_upc[\"StoreNumber\"].nunique()*90/100)].count())/(store_upc_count.count())*100"
   ]
  },
  {
   "cell_type": "code",
   "execution_count": 116,
   "metadata": {
    "collapsed": false
   },
   "outputs": [],
   "source": [
    "upc_criterion_met = store_upc_count[store_upc_count[\"StoreNumber\"] > (store_upc[\"StoreNumber\"].nunique()*90/100)]"
   ]
  },
  {
   "cell_type": "code",
   "execution_count": null,
   "metadata": {
    "collapsed": true
   },
   "outputs": [],
   "source": []
  }
 ],
 "metadata": {
  "kernelspec": {
   "display_name": "Python [Root]",
   "language": "python",
   "name": "Python [Root]"
  },
  "language_info": {
   "codemirror_mode": {
    "name": "ipython",
    "version": 2
   },
   "file_extension": ".py",
   "mimetype": "text/x-python",
   "name": "python",
   "nbconvert_exporter": "python",
   "pygments_lexer": "ipython2",
   "version": "2.7.12"
  }
 },
 "nbformat": 4,
 "nbformat_minor": 0
}
