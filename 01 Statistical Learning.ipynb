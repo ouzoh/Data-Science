{
 "cells": [
  {
   "cell_type": "markdown",
   "metadata": {},
   "source": [
    "Throughout this book, we explore many linear and non-linear approaches for estimating *f*. However, these methods generally share certain characteristics. \n",
    "\n",
    "Most statistical learning methods for this task can be characterized as either **parametric** or **non-parametric**.\n",
    "\n",
    "### Parametric Methods\n",
    "Parametric methods involve a two-step model-based approach.\n",
    "1. First, we make an assumption about the functional form, or shape, of f. For example, a linear model\n",
    "2. After a model has been selected, we need a procedure that uses the training data to fit or train the model. For example,(ordinary) least squares. \n",
    "The model-based approach just described is referred to as parametric; it reduces the problem of estimating f down to one of estimating a set of parameters.\n",
    "\n",
    "\n",
    "\n",
    "\n"
   ]
  },
  {
   "cell_type": "code",
   "execution_count": null,
   "metadata": {
    "collapsed": true
   },
   "outputs": [],
   "source": []
  }
 ],
 "metadata": {
  "kernelspec": {
   "display_name": "Python [Root]",
   "language": "python",
   "name": "Python [Root]"
  },
  "language_info": {
   "codemirror_mode": {
    "name": "ipython",
    "version": 2
   },
   "file_extension": ".py",
   "mimetype": "text/x-python",
   "name": "python",
   "nbconvert_exporter": "python",
   "pygments_lexer": "ipython2",
   "version": "2.7.12"
  }
 },
 "nbformat": 4,
 "nbformat_minor": 0
}
