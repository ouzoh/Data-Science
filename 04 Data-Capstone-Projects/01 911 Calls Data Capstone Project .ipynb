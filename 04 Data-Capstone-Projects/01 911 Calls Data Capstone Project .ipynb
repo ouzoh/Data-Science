{
 "cells": [
  {
   "cell_type": "markdown",
   "metadata": {},
   "source": [
    "# 911 Calls Capstone Project"
   ]
  },
  {
   "cell_type": "markdown",
   "metadata": {},
   "source": [
    "For this capstone project we will be analyzing some 911 call data from [Kaggle](https://www.kaggle.com/mchirico/montcoalert). The data contains the following fields:\n",
    "\n",
    "* lat : String variable, Latitude\n",
    "* lng: String variable, Longitude\n",
    "* desc: String variable, Description of the Emergency Call\n",
    "* zip: String variable, Zipcode\n",
    "* title: String variable, Title\n",
    "* timeStamp: String variable, YYYY-MM-DD HH:MM:SS\n",
    "* twp: String variable, Township\n",
    "* addr: String variable, Address\n",
    "* e: String variable, Dummy variable (always 1)\n",
    "\n",
    "Just go along with this notebook and try to complete the instructions or answer the questions in bold using your Python and Data Science skills!"
   ]
  },
  {
   "cell_type": "markdown",
   "metadata": {},
   "source": [
    "## Data and Setup"
   ]
  },
  {
   "cell_type": "markdown",
   "metadata": {},
   "source": [
    "____\n",
    "** Import numpy and pandas **"
   ]
  },
  {
   "cell_type": "code",
   "execution_count": 292,
   "metadata": {
    "collapsed": true
   },
   "outputs": [],
   "source": [
    "import numpy as np\n",
    "import pandas as pd"
   ]
  },
  {
   "cell_type": "markdown",
   "metadata": {},
   "source": [
    "** Import visualization libraries and set %matplotlib inline. **"
   ]
  },
  {
   "cell_type": "code",
   "execution_count": 293,
   "metadata": {
    "collapsed": false
   },
   "outputs": [],
   "source": [
    "%matplotlib inline"
   ]
  },
  {
   "cell_type": "markdown",
   "metadata": {},
   "source": [
    "** Read in the csv file as a dataframe called df **"
   ]
  },
  {
   "cell_type": "code",
   "execution_count": 294,
   "metadata": {
    "collapsed": true
   },
   "outputs": [],
   "source": [
    "df = pd.read_csv('911.csv')"
   ]
  },
  {
   "cell_type": "markdown",
   "metadata": {},
   "source": [
    "** Check the info() of the df **"
   ]
  },
  {
   "cell_type": "code",
   "execution_count": 295,
   "metadata": {
    "collapsed": false
   },
   "outputs": [
    {
     "name": "stdout",
     "output_type": "stream",
     "text": [
      "<class 'pandas.core.frame.DataFrame'>\n",
      "RangeIndex: 99492 entries, 0 to 99491\n",
      "Data columns (total 9 columns):\n",
      "lat          99492 non-null float64\n",
      "lng          99492 non-null float64\n",
      "desc         99492 non-null object\n",
      "zip          86637 non-null float64\n",
      "title        99492 non-null object\n",
      "timeStamp    99492 non-null object\n",
      "twp          99449 non-null object\n",
      "addr         98973 non-null object\n",
      "e            99492 non-null int64\n",
      "dtypes: float64(3), int64(1), object(5)\n",
      "memory usage: 4.9+ MB\n"
     ]
    }
   ],
   "source": [
    "df.info()"
   ]
  },
  {
   "cell_type": "markdown",
   "metadata": {
    "collapsed": false
   },
   "source": [
    "** Check the head of df **"
   ]
  },
  {
   "cell_type": "code",
   "execution_count": 296,
   "metadata": {
    "collapsed": false
   },
   "outputs": [
    {
     "data": {
      "text/html": [
       "<div>\n",
       "<table border=\"1\" class=\"dataframe\">\n",
       "  <thead>\n",
       "    <tr style=\"text-align: right;\">\n",
       "      <th></th>\n",
       "      <th>lat</th>\n",
       "      <th>lng</th>\n",
       "      <th>desc</th>\n",
       "      <th>zip</th>\n",
       "      <th>title</th>\n",
       "      <th>timeStamp</th>\n",
       "      <th>twp</th>\n",
       "      <th>addr</th>\n",
       "      <th>e</th>\n",
       "    </tr>\n",
       "  </thead>\n",
       "  <tbody>\n",
       "    <tr>\n",
       "      <th>0</th>\n",
       "      <td>40.297876</td>\n",
       "      <td>-75.581294</td>\n",
       "      <td>REINDEER CT &amp; DEAD END;  NEW HANOVER; Station ...</td>\n",
       "      <td>19525.0</td>\n",
       "      <td>EMS: BACK PAINS/INJURY</td>\n",
       "      <td>2015-12-10 17:40:00</td>\n",
       "      <td>NEW HANOVER</td>\n",
       "      <td>REINDEER CT &amp; DEAD END</td>\n",
       "      <td>1</td>\n",
       "    </tr>\n",
       "    <tr>\n",
       "      <th>1</th>\n",
       "      <td>40.258061</td>\n",
       "      <td>-75.264680</td>\n",
       "      <td>BRIAR PATH &amp; WHITEMARSH LN;  HATFIELD TOWNSHIP...</td>\n",
       "      <td>19446.0</td>\n",
       "      <td>EMS: DIABETIC EMERGENCY</td>\n",
       "      <td>2015-12-10 17:40:00</td>\n",
       "      <td>HATFIELD TOWNSHIP</td>\n",
       "      <td>BRIAR PATH &amp; WHITEMARSH LN</td>\n",
       "      <td>1</td>\n",
       "    </tr>\n",
       "    <tr>\n",
       "      <th>2</th>\n",
       "      <td>40.121182</td>\n",
       "      <td>-75.351975</td>\n",
       "      <td>HAWS AVE; NORRISTOWN; 2015-12-10 @ 14:39:21-St...</td>\n",
       "      <td>19401.0</td>\n",
       "      <td>Fire: GAS-ODOR/LEAK</td>\n",
       "      <td>2015-12-10 17:40:00</td>\n",
       "      <td>NORRISTOWN</td>\n",
       "      <td>HAWS AVE</td>\n",
       "      <td>1</td>\n",
       "    </tr>\n",
       "    <tr>\n",
       "      <th>3</th>\n",
       "      <td>40.116153</td>\n",
       "      <td>-75.343513</td>\n",
       "      <td>AIRY ST &amp; SWEDE ST;  NORRISTOWN; Station 308A;...</td>\n",
       "      <td>19401.0</td>\n",
       "      <td>EMS: CARDIAC EMERGENCY</td>\n",
       "      <td>2015-12-10 17:40:01</td>\n",
       "      <td>NORRISTOWN</td>\n",
       "      <td>AIRY ST &amp; SWEDE ST</td>\n",
       "      <td>1</td>\n",
       "    </tr>\n",
       "    <tr>\n",
       "      <th>4</th>\n",
       "      <td>40.251492</td>\n",
       "      <td>-75.603350</td>\n",
       "      <td>CHERRYWOOD CT &amp; DEAD END;  LOWER POTTSGROVE; S...</td>\n",
       "      <td>NaN</td>\n",
       "      <td>EMS: DIZZINESS</td>\n",
       "      <td>2015-12-10 17:40:01</td>\n",
       "      <td>LOWER POTTSGROVE</td>\n",
       "      <td>CHERRYWOOD CT &amp; DEAD END</td>\n",
       "      <td>1</td>\n",
       "    </tr>\n",
       "  </tbody>\n",
       "</table>\n",
       "</div>"
      ],
      "text/plain": [
       "         lat        lng                                               desc  \\\n",
       "0  40.297876 -75.581294  REINDEER CT & DEAD END;  NEW HANOVER; Station ...   \n",
       "1  40.258061 -75.264680  BRIAR PATH & WHITEMARSH LN;  HATFIELD TOWNSHIP...   \n",
       "2  40.121182 -75.351975  HAWS AVE; NORRISTOWN; 2015-12-10 @ 14:39:21-St...   \n",
       "3  40.116153 -75.343513  AIRY ST & SWEDE ST;  NORRISTOWN; Station 308A;...   \n",
       "4  40.251492 -75.603350  CHERRYWOOD CT & DEAD END;  LOWER POTTSGROVE; S...   \n",
       "\n",
       "       zip                    title            timeStamp                twp  \\\n",
       "0  19525.0   EMS: BACK PAINS/INJURY  2015-12-10 17:40:00        NEW HANOVER   \n",
       "1  19446.0  EMS: DIABETIC EMERGENCY  2015-12-10 17:40:00  HATFIELD TOWNSHIP   \n",
       "2  19401.0      Fire: GAS-ODOR/LEAK  2015-12-10 17:40:00         NORRISTOWN   \n",
       "3  19401.0   EMS: CARDIAC EMERGENCY  2015-12-10 17:40:01         NORRISTOWN   \n",
       "4      NaN           EMS: DIZZINESS  2015-12-10 17:40:01   LOWER POTTSGROVE   \n",
       "\n",
       "                         addr  e  \n",
       "0      REINDEER CT & DEAD END  1  \n",
       "1  BRIAR PATH & WHITEMARSH LN  1  \n",
       "2                    HAWS AVE  1  \n",
       "3          AIRY ST & SWEDE ST  1  \n",
       "4    CHERRYWOOD CT & DEAD END  1  "
      ]
     },
     "execution_count": 296,
     "metadata": {},
     "output_type": "execute_result"
    }
   ],
   "source": [
    "df.head()"
   ]
  },
  {
   "cell_type": "code",
   "execution_count": 297,
   "metadata": {
    "collapsed": false
   },
   "outputs": [
    {
     "data": {
      "text/plain": [
       "<bound method Series.unique of 0        2015-12-10 17:40:00\n",
       "1        2015-12-10 17:40:00\n",
       "2        2015-12-10 17:40:00\n",
       "3        2015-12-10 17:40:01\n",
       "4        2015-12-10 17:40:01\n",
       "5        2015-12-10 17:40:01\n",
       "6        2015-12-10 17:40:01\n",
       "7        2015-12-10 17:40:01\n",
       "8        2015-12-10 17:40:01\n",
       "9        2015-12-10 17:40:01\n",
       "10       2015-12-10 17:40:01\n",
       "11       2015-12-10 17:40:02\n",
       "12       2015-12-10 17:40:02\n",
       "13       2015-12-10 17:40:02\n",
       "14       2015-12-10 17:40:02\n",
       "15       2015-12-10 17:40:02\n",
       "16       2015-12-10 17:46:01\n",
       "17       2015-12-10 17:47:01\n",
       "18       2015-12-10 17:47:01\n",
       "19       2015-12-10 17:47:02\n",
       "20       2015-12-10 17:47:02\n",
       "21       2015-12-10 17:57:02\n",
       "22       2015-12-10 18:02:01\n",
       "23       2015-12-10 18:02:02\n",
       "24       2015-12-10 18:02:02\n",
       "25       2015-12-10 18:06:25\n",
       "26       2015-12-10 18:06:25\n",
       "27       2015-12-10 18:06:25\n",
       "28       2015-12-10 18:06:26\n",
       "29       2015-12-10 18:11:01\n",
       "                ...         \n",
       "99462    2016-08-24 09:41:00\n",
       "99463    2016-08-24 09:42:00\n",
       "99464    2016-08-24 09:51:06\n",
       "99465    2016-08-24 09:56:13\n",
       "99466    2016-08-24 10:01:00\n",
       "99467    2016-08-24 10:12:01\n",
       "99468    2016-08-24 10:12:01\n",
       "99469    2016-08-24 10:12:01\n",
       "99470    2016-08-24 10:17:01\n",
       "99471    2016-08-24 10:17:01\n",
       "99472    2016-08-24 10:22:00\n",
       "99473    2016-08-24 10:27:01\n",
       "99474    2016-08-24 10:27:01\n",
       "99475    2016-08-24 10:32:01\n",
       "99476    2016-08-24 10:47:00\n",
       "99477    2016-08-24 10:47:00\n",
       "99478    2016-08-24 10:47:02\n",
       "99479    2016-08-24 10:52:01\n",
       "99480    2016-08-24 10:52:01\n",
       "99481    2016-08-24 10:52:01\n",
       "99482    2016-08-24 10:52:03\n",
       "99483    2016-08-24 10:57:00\n",
       "99484    2016-08-24 10:57:00\n",
       "99485    2016-08-24 10:57:01\n",
       "99486    2016-08-24 11:02:02\n",
       "99487    2016-08-24 11:06:00\n",
       "99488    2016-08-24 11:07:02\n",
       "99489    2016-08-24 11:12:00\n",
       "99490    2016-08-24 11:17:01\n",
       "99491    2016-08-24 11:17:02\n",
       "Name: timeStamp, dtype: object>"
      ]
     },
     "execution_count": 297,
     "metadata": {},
     "output_type": "execute_result"
    }
   ],
   "source": [
    "df['timeStamp'].unique"
   ]
  },
  {
   "cell_type": "code",
   "execution_count": null,
   "metadata": {
    "collapsed": false
   },
   "outputs": [],
   "source": []
  },
  {
   "cell_type": "markdown",
   "metadata": {},
   "source": [
    "## Basic Questions"
   ]
  },
  {
   "cell_type": "markdown",
   "metadata": {},
   "source": [
    "** What are the top 5 zipcodes for 911 calls? **"
   ]
  },
  {
   "cell_type": "code",
   "execution_count": 298,
   "metadata": {
    "collapsed": false
   },
   "outputs": [
    {
     "data": {
      "text/plain": [
       "19401.0    6979\n",
       "19464.0    6643\n",
       "19403.0    4854\n",
       "19446.0    4748\n",
       "19406.0    3174\n",
       "Name: zip, dtype: int64"
      ]
     },
     "execution_count": 298,
     "metadata": {},
     "output_type": "execute_result"
    }
   ],
   "source": [
    "df['zip'].value_counts().head()"
   ]
  },
  {
   "cell_type": "markdown",
   "metadata": {},
   "source": [
    "** What are the top 5 townships (twp) for 911 calls? **"
   ]
  },
  {
   "cell_type": "code",
   "execution_count": 299,
   "metadata": {
    "collapsed": false
   },
   "outputs": [
    {
     "data": {
      "text/plain": [
       "LOWER MERION    8443\n",
       "ABINGTON        5977\n",
       "NORRISTOWN      5890\n",
       "UPPER MERION    5227\n",
       "CHELTENHAM      4575\n",
       "Name: twp, dtype: int64"
      ]
     },
     "execution_count": 299,
     "metadata": {},
     "output_type": "execute_result"
    }
   ],
   "source": [
    "df['twp'].value_counts().head()"
   ]
  },
  {
   "cell_type": "markdown",
   "metadata": {},
   "source": [
    "** Take a look at the 'title' column, how many unique title codes are there? **"
   ]
  },
  {
   "cell_type": "code",
   "execution_count": 300,
   "metadata": {
    "collapsed": false
   },
   "outputs": [
    {
     "data": {
      "text/plain": [
       "110"
      ]
     },
     "execution_count": 300,
     "metadata": {},
     "output_type": "execute_result"
    }
   ],
   "source": [
    "df['title'].nunique()"
   ]
  },
  {
   "cell_type": "markdown",
   "metadata": {},
   "source": [
    "## Creating new features"
   ]
  },
  {
   "cell_type": "markdown",
   "metadata": {},
   "source": [
    "** In the titles column there are \"Reasons/Departments\" specified before the title code. These are EMS, Fire, and Traffic. Use .apply() with a custom lambda expression to create a new column called \"Reason\" that contains this string value.** \n",
    "\n",
    "**For example, if the title column value is EMS: BACK PAINS/INJURY , the Reason column value would be EMS. **"
   ]
  },
  {
   "cell_type": "code",
   "execution_count": 301,
   "metadata": {
    "collapsed": true
   },
   "outputs": [],
   "source": [
    "reason = lambda x: x.split(':')[0]"
   ]
  },
  {
   "cell_type": "code",
   "execution_count": 302,
   "metadata": {
    "collapsed": false
   },
   "outputs": [],
   "source": [
    "reason=df['title'].apply(reason)"
   ]
  },
  {
   "cell_type": "code",
   "execution_count": 303,
   "metadata": {
    "collapsed": false
   },
   "outputs": [],
   "source": [
    "reason.head()\n",
    "#df.append(df2)\n",
    "df1=df.assign(reason=reason)"
   ]
  },
  {
   "cell_type": "code",
   "execution_count": 304,
   "metadata": {
    "collapsed": false
   },
   "outputs": [
    {
     "data": {
      "text/html": [
       "<div>\n",
       "<table border=\"1\" class=\"dataframe\">\n",
       "  <thead>\n",
       "    <tr style=\"text-align: right;\">\n",
       "      <th></th>\n",
       "      <th>lat</th>\n",
       "      <th>lng</th>\n",
       "      <th>desc</th>\n",
       "      <th>zip</th>\n",
       "      <th>title</th>\n",
       "      <th>timeStamp</th>\n",
       "      <th>twp</th>\n",
       "      <th>addr</th>\n",
       "      <th>e</th>\n",
       "      <th>reason</th>\n",
       "    </tr>\n",
       "  </thead>\n",
       "  <tbody>\n",
       "    <tr>\n",
       "      <th>0</th>\n",
       "      <td>40.297876</td>\n",
       "      <td>-75.581294</td>\n",
       "      <td>REINDEER CT &amp; DEAD END;  NEW HANOVER; Station ...</td>\n",
       "      <td>19525.0</td>\n",
       "      <td>EMS: BACK PAINS/INJURY</td>\n",
       "      <td>2015-12-10 17:40:00</td>\n",
       "      <td>NEW HANOVER</td>\n",
       "      <td>REINDEER CT &amp; DEAD END</td>\n",
       "      <td>1</td>\n",
       "      <td>EMS</td>\n",
       "    </tr>\n",
       "    <tr>\n",
       "      <th>1</th>\n",
       "      <td>40.258061</td>\n",
       "      <td>-75.264680</td>\n",
       "      <td>BRIAR PATH &amp; WHITEMARSH LN;  HATFIELD TOWNSHIP...</td>\n",
       "      <td>19446.0</td>\n",
       "      <td>EMS: DIABETIC EMERGENCY</td>\n",
       "      <td>2015-12-10 17:40:00</td>\n",
       "      <td>HATFIELD TOWNSHIP</td>\n",
       "      <td>BRIAR PATH &amp; WHITEMARSH LN</td>\n",
       "      <td>1</td>\n",
       "      <td>EMS</td>\n",
       "    </tr>\n",
       "    <tr>\n",
       "      <th>2</th>\n",
       "      <td>40.121182</td>\n",
       "      <td>-75.351975</td>\n",
       "      <td>HAWS AVE; NORRISTOWN; 2015-12-10 @ 14:39:21-St...</td>\n",
       "      <td>19401.0</td>\n",
       "      <td>Fire: GAS-ODOR/LEAK</td>\n",
       "      <td>2015-12-10 17:40:00</td>\n",
       "      <td>NORRISTOWN</td>\n",
       "      <td>HAWS AVE</td>\n",
       "      <td>1</td>\n",
       "      <td>Fire</td>\n",
       "    </tr>\n",
       "    <tr>\n",
       "      <th>3</th>\n",
       "      <td>40.116153</td>\n",
       "      <td>-75.343513</td>\n",
       "      <td>AIRY ST &amp; SWEDE ST;  NORRISTOWN; Station 308A;...</td>\n",
       "      <td>19401.0</td>\n",
       "      <td>EMS: CARDIAC EMERGENCY</td>\n",
       "      <td>2015-12-10 17:40:01</td>\n",
       "      <td>NORRISTOWN</td>\n",
       "      <td>AIRY ST &amp; SWEDE ST</td>\n",
       "      <td>1</td>\n",
       "      <td>EMS</td>\n",
       "    </tr>\n",
       "    <tr>\n",
       "      <th>4</th>\n",
       "      <td>40.251492</td>\n",
       "      <td>-75.603350</td>\n",
       "      <td>CHERRYWOOD CT &amp; DEAD END;  LOWER POTTSGROVE; S...</td>\n",
       "      <td>NaN</td>\n",
       "      <td>EMS: DIZZINESS</td>\n",
       "      <td>2015-12-10 17:40:01</td>\n",
       "      <td>LOWER POTTSGROVE</td>\n",
       "      <td>CHERRYWOOD CT &amp; DEAD END</td>\n",
       "      <td>1</td>\n",
       "      <td>EMS</td>\n",
       "    </tr>\n",
       "  </tbody>\n",
       "</table>\n",
       "</div>"
      ],
      "text/plain": [
       "         lat        lng                                               desc  \\\n",
       "0  40.297876 -75.581294  REINDEER CT & DEAD END;  NEW HANOVER; Station ...   \n",
       "1  40.258061 -75.264680  BRIAR PATH & WHITEMARSH LN;  HATFIELD TOWNSHIP...   \n",
       "2  40.121182 -75.351975  HAWS AVE; NORRISTOWN; 2015-12-10 @ 14:39:21-St...   \n",
       "3  40.116153 -75.343513  AIRY ST & SWEDE ST;  NORRISTOWN; Station 308A;...   \n",
       "4  40.251492 -75.603350  CHERRYWOOD CT & DEAD END;  LOWER POTTSGROVE; S...   \n",
       "\n",
       "       zip                    title            timeStamp                twp  \\\n",
       "0  19525.0   EMS: BACK PAINS/INJURY  2015-12-10 17:40:00        NEW HANOVER   \n",
       "1  19446.0  EMS: DIABETIC EMERGENCY  2015-12-10 17:40:00  HATFIELD TOWNSHIP   \n",
       "2  19401.0      Fire: GAS-ODOR/LEAK  2015-12-10 17:40:00         NORRISTOWN   \n",
       "3  19401.0   EMS: CARDIAC EMERGENCY  2015-12-10 17:40:01         NORRISTOWN   \n",
       "4      NaN           EMS: DIZZINESS  2015-12-10 17:40:01   LOWER POTTSGROVE   \n",
       "\n",
       "                         addr  e reason  \n",
       "0      REINDEER CT & DEAD END  1    EMS  \n",
       "1  BRIAR PATH & WHITEMARSH LN  1    EMS  \n",
       "2                    HAWS AVE  1   Fire  \n",
       "3          AIRY ST & SWEDE ST  1    EMS  \n",
       "4    CHERRYWOOD CT & DEAD END  1    EMS  "
      ]
     },
     "execution_count": 304,
     "metadata": {},
     "output_type": "execute_result"
    }
   ],
   "source": [
    "df1.head()"
   ]
  },
  {
   "cell_type": "markdown",
   "metadata": {},
   "source": [
    "** What is the most common Reason for a 911 call based off of this new column? **"
   ]
  },
  {
   "cell_type": "code",
   "execution_count": 305,
   "metadata": {
    "collapsed": false
   },
   "outputs": [],
   "source": [
    "df2=reason.value_counts()"
   ]
  },
  {
   "cell_type": "code",
   "execution_count": 306,
   "metadata": {
    "collapsed": false
   },
   "outputs": [],
   "source": [
    "df2.columns=[\"reason\", \"count\"]"
   ]
  },
  {
   "cell_type": "code",
   "execution_count": 307,
   "metadata": {
    "collapsed": false
   },
   "outputs": [
    {
     "data": {
      "text/plain": [
       "EMS        48877\n",
       "Traffic    35695\n",
       "Fire       14920\n",
       "Name: title, dtype: int64"
      ]
     },
     "execution_count": 307,
     "metadata": {},
     "output_type": "execute_result"
    }
   ],
   "source": [
    "df2"
   ]
  },
  {
   "cell_type": "markdown",
   "metadata": {},
   "source": [
    "** Now use seaborn to create a countplot of 911 calls by Reason. **"
   ]
  },
  {
   "cell_type": "code",
   "execution_count": 308,
   "metadata": {
    "collapsed": false
   },
   "outputs": [
    {
     "data": {
      "text/plain": [
       "<matplotlib.axes._subplots.AxesSubplot at 0x243e4e10>"
      ]
     },
     "execution_count": 308,
     "metadata": {},
     "output_type": "execute_result"
    },
    {
     "data": {
      "image/png": "[encoded data removed]",
      "text/plain": [
       "<matplotlib.figure.Figure at 0x1e393c30>"
      ]
     },
     "metadata": {},
     "output_type": "display_data"
    }
   ],
   "source": [
    "import seaborn as sns\n",
    "sns.countplot(df1['reason'])"
   ]
  },
  {
   "cell_type": "markdown",
   "metadata": {},
   "source": [
    "___\n",
    "** Now let us begin to focus on time information. What is the data type of the objects in the timeStamp column? **"
   ]
  },
  {
   "cell_type": "code",
   "execution_count": 309,
   "metadata": {
    "collapsed": false
   },
   "outputs": [
    {
     "data": {
      "text/plain": [
       "str"
      ]
     },
     "execution_count": 309,
     "metadata": {},
     "output_type": "execute_result"
    }
   ],
   "source": [
    "type(df1['timeStamp'][1])"
   ]
  },
  {
   "cell_type": "markdown",
   "metadata": {},
   "source": [
    "** You should have seen that these timestamps are still strings. Use [pd.to_datetime](http://pandas.pydata.org/pandas-docs/stable/generated/pandas.to_datetime.html) to convert the column from strings to DateTime objects. **"
   ]
  },
  {
   "cell_type": "code",
   "execution_count": 310,
   "metadata": {
    "collapsed": false
   },
   "outputs": [],
   "source": [
    "tS_tS=(pd.to_datetime(df1['timeStamp']))"
   ]
  },
  {
   "cell_type": "code",
   "execution_count": null,
   "metadata": {
    "collapsed": true
   },
   "outputs": [],
   "source": []
  },
  {
   "cell_type": "code",
   "execution_count": 311,
   "metadata": {
    "collapsed": false
   },
   "outputs": [],
   "source": [
    "df2=df1.assign(timeStamp=tS_tS)"
   ]
  },
  {
   "cell_type": "code",
   "execution_count": 312,
   "metadata": {
    "collapsed": false
   },
   "outputs": [
    {
     "data": {
      "text/html": [
       "<div>\n",
       "<table border=\"1\" class=\"dataframe\">\n",
       "  <thead>\n",
       "    <tr style=\"text-align: right;\">\n",
       "      <th></th>\n",
       "      <th>lat</th>\n",
       "      <th>lng</th>\n",
       "      <th>desc</th>\n",
       "      <th>zip</th>\n",
       "      <th>title</th>\n",
       "      <th>timeStamp</th>\n",
       "      <th>twp</th>\n",
       "      <th>addr</th>\n",
       "      <th>e</th>\n",
       "      <th>reason</th>\n",
       "    </tr>\n",
       "  </thead>\n",
       "  <tbody>\n",
       "    <tr>\n",
       "      <th>0</th>\n",
       "      <td>40.297876</td>\n",
       "      <td>-75.581294</td>\n",
       "      <td>REINDEER CT &amp; DEAD END;  NEW HANOVER; Station ...</td>\n",
       "      <td>19525.0</td>\n",
       "      <td>EMS: BACK PAINS/INJURY</td>\n",
       "      <td>2015-12-10 17:40:00</td>\n",
       "      <td>NEW HANOVER</td>\n",
       "      <td>REINDEER CT &amp; DEAD END</td>\n",
       "      <td>1</td>\n",
       "      <td>EMS</td>\n",
       "    </tr>\n",
       "    <tr>\n",
       "      <th>1</th>\n",
       "      <td>40.258061</td>\n",
       "      <td>-75.264680</td>\n",
       "      <td>BRIAR PATH &amp; WHITEMARSH LN;  HATFIELD TOWNSHIP...</td>\n",
       "      <td>19446.0</td>\n",
       "      <td>EMS: DIABETIC EMERGENCY</td>\n",
       "      <td>2015-12-10 17:40:00</td>\n",
       "      <td>HATFIELD TOWNSHIP</td>\n",
       "      <td>BRIAR PATH &amp; WHITEMARSH LN</td>\n",
       "      <td>1</td>\n",
       "      <td>EMS</td>\n",
       "    </tr>\n",
       "    <tr>\n",
       "      <th>2</th>\n",
       "      <td>40.121182</td>\n",
       "      <td>-75.351975</td>\n",
       "      <td>HAWS AVE; NORRISTOWN; 2015-12-10 @ 14:39:21-St...</td>\n",
       "      <td>19401.0</td>\n",
       "      <td>Fire: GAS-ODOR/LEAK</td>\n",
       "      <td>2015-12-10 17:40:00</td>\n",
       "      <td>NORRISTOWN</td>\n",
       "      <td>HAWS AVE</td>\n",
       "      <td>1</td>\n",
       "      <td>Fire</td>\n",
       "    </tr>\n",
       "    <tr>\n",
       "      <th>3</th>\n",
       "      <td>40.116153</td>\n",
       "      <td>-75.343513</td>\n",
       "      <td>AIRY ST &amp; SWEDE ST;  NORRISTOWN; Station 308A;...</td>\n",
       "      <td>19401.0</td>\n",
       "      <td>EMS: CARDIAC EMERGENCY</td>\n",
       "      <td>2015-12-10 17:40:01</td>\n",
       "      <td>NORRISTOWN</td>\n",
       "      <td>AIRY ST &amp; SWEDE ST</td>\n",
       "      <td>1</td>\n",
       "      <td>EMS</td>\n",
       "    </tr>\n",
       "    <tr>\n",
       "      <th>4</th>\n",
       "      <td>40.251492</td>\n",
       "      <td>-75.603350</td>\n",
       "      <td>CHERRYWOOD CT &amp; DEAD END;  LOWER POTTSGROVE; S...</td>\n",
       "      <td>NaN</td>\n",
       "      <td>EMS: DIZZINESS</td>\n",
       "      <td>2015-12-10 17:40:01</td>\n",
       "      <td>LOWER POTTSGROVE</td>\n",
       "      <td>CHERRYWOOD CT &amp; DEAD END</td>\n",
       "      <td>1</td>\n",
       "      <td>EMS</td>\n",
       "    </tr>\n",
       "  </tbody>\n",
       "</table>\n",
       "</div>"
      ],
      "text/plain": [
       "         lat        lng                                               desc  \\\n",
       "0  40.297876 -75.581294  REINDEER CT & DEAD END;  NEW HANOVER; Station ...   \n",
       "1  40.258061 -75.264680  BRIAR PATH & WHITEMARSH LN;  HATFIELD TOWNSHIP...   \n",
       "2  40.121182 -75.351975  HAWS AVE; NORRISTOWN; 2015-12-10 @ 14:39:21-St...   \n",
       "3  40.116153 -75.343513  AIRY ST & SWEDE ST;  NORRISTOWN; Station 308A;...   \n",
       "4  40.251492 -75.603350  CHERRYWOOD CT & DEAD END;  LOWER POTTSGROVE; S...   \n",
       "\n",
       "       zip                    title           timeStamp                twp  \\\n",
       "0  19525.0   EMS: BACK PAINS/INJURY 2015-12-10 17:40:00        NEW HANOVER   \n",
       "1  19446.0  EMS: DIABETIC EMERGENCY 2015-12-10 17:40:00  HATFIELD TOWNSHIP   \n",
       "2  19401.0      Fire: GAS-ODOR/LEAK 2015-12-10 17:40:00         NORRISTOWN   \n",
       "3  19401.0   EMS: CARDIAC EMERGENCY 2015-12-10 17:40:01         NORRISTOWN   \n",
       "4      NaN           EMS: DIZZINESS 2015-12-10 17:40:01   LOWER POTTSGROVE   \n",
       "\n",
       "                         addr  e reason  \n",
       "0      REINDEER CT & DEAD END  1    EMS  \n",
       "1  BRIAR PATH & WHITEMARSH LN  1    EMS  \n",
       "2                    HAWS AVE  1   Fire  \n",
       "3          AIRY ST & SWEDE ST  1    EMS  \n",
       "4    CHERRYWOOD CT & DEAD END  1    EMS  "
      ]
     },
     "execution_count": 312,
     "metadata": {},
     "output_type": "execute_result"
    }
   ],
   "source": [
    "df2.head()"
   ]
  },
  {
   "cell_type": "code",
   "execution_count": 313,
   "metadata": {
    "collapsed": true
   },
   "outputs": [],
   "source": [
    "df1=df2"
   ]
  },
  {
   "cell_type": "code",
   "execution_count": 314,
   "metadata": {
    "collapsed": false
   },
   "outputs": [
    {
     "name": "stdout",
     "output_type": "stream",
     "text": [
      "<class 'pandas.core.frame.DataFrame'>\n",
      "RangeIndex: 99492 entries, 0 to 99491\n",
      "Data columns (total 10 columns):\n",
      "lat          99492 non-null float64\n",
      "lng          99492 non-null float64\n",
      "desc         99492 non-null object\n",
      "zip          86637 non-null float64\n",
      "title        99492 non-null object\n",
      "timeStamp    99492 non-null datetime64[ns]\n",
      "twp          99449 non-null object\n",
      "addr         98973 non-null object\n",
      "e            99492 non-null int64\n",
      "reason       99492 non-null object\n",
      "dtypes: datetime64[ns](1), float64(3), int64(1), object(5)\n",
      "memory usage: 5.7+ MB\n"
     ]
    }
   ],
   "source": [
    "df1.info()"
   ]
  },
  {
   "cell_type": "markdown",
   "metadata": {},
   "source": [
    "** You can now grab specific attributes from a Datetime object by calling them. For example:**\n",
    "\n",
    "    time = df['timeStamp'].iloc[0]\n",
    "    time.hour\n",
    "\n",
    "**You can use Jupyter's tab method to explore the various attributes you can call. Now that the timestamp column are actually DateTime objects, use .apply() to create 3 new columns called Hour, Month, and Day of Week. You will create these columns based off of the timeStamp column, reference the solutions if you get stuck on this step.**"
   ]
  },
  {
   "cell_type": "code",
   "execution_count": 315,
   "metadata": {
    "collapsed": false
   },
   "outputs": [
    {
     "data": {
      "text/plain": [
       "0   2015-12-10 17:40:00\n",
       "1   2015-12-10 17:40:00\n",
       "2   2015-12-10 17:40:00\n",
       "3   2015-12-10 17:40:01\n",
       "4   2015-12-10 17:40:01\n",
       "Name: timeStamp, dtype: datetime64[ns]"
      ]
     },
     "execution_count": 315,
     "metadata": {},
     "output_type": "execute_result"
    }
   ],
   "source": [
    "df1['timeStamp'].head()"
   ]
  },
  {
   "cell_type": "code",
   "execution_count": 316,
   "metadata": {
    "collapsed": false
   },
   "outputs": [],
   "source": [
    "hour  = lambda x: x.hour\n",
    "hour1 = df1['timeStamp'].apply(hour)\n",
    "df2 = df1.assign(Hour=hour1)"
   ]
  },
  {
   "cell_type": "code",
   "execution_count": 317,
   "metadata": {
    "collapsed": false
   },
   "outputs": [],
   "source": [
    "month  = lambda x: x.month\n",
    "month1 = df1['timeStamp'].apply(month)\n",
    "df1 = df2.assign(Month=month1)"
   ]
  },
  {
   "cell_type": "code",
   "execution_count": 318,
   "metadata": {
    "collapsed": false
   },
   "outputs": [],
   "source": [
    "day_of_week  = lambda x: x.dayofweek\n",
    "day_of_week1 = df1['timeStamp'].apply(day_of_week)\n",
    "df2 = df1.assign(Day_of_Week= day_of_week1)"
   ]
  },
  {
   "cell_type": "code",
   "execution_count": 319,
   "metadata": {
    "collapsed": false
   },
   "outputs": [
    {
     "data": {
      "text/html": [
       "<div>\n",
       "<table border=\"1\" class=\"dataframe\">\n",
       "  <thead>\n",
       "    <tr style=\"text-align: right;\">\n",
       "      <th></th>\n",
       "      <th>lat</th>\n",
       "      <th>lng</th>\n",
       "      <th>desc</th>\n",
       "      <th>zip</th>\n",
       "      <th>title</th>\n",
       "      <th>timeStamp</th>\n",
       "      <th>twp</th>\n",
       "      <th>addr</th>\n",
       "      <th>e</th>\n",
       "      <th>reason</th>\n",
       "      <th>Hour</th>\n",
       "      <th>Month</th>\n",
       "      <th>Day_of_Week</th>\n",
       "    </tr>\n",
       "  </thead>\n",
       "  <tbody>\n",
       "    <tr>\n",
       "      <th>0</th>\n",
       "      <td>40.297876</td>\n",
       "      <td>-75.581294</td>\n",
       "      <td>REINDEER CT &amp; DEAD END;  NEW HANOVER; Station ...</td>\n",
       "      <td>19525.0</td>\n",
       "      <td>EMS: BACK PAINS/INJURY</td>\n",
       "      <td>2015-12-10 17:40:00</td>\n",
       "      <td>NEW HANOVER</td>\n",
       "      <td>REINDEER CT &amp; DEAD END</td>\n",
       "      <td>1</td>\n",
       "      <td>EMS</td>\n",
       "      <td>17</td>\n",
       "      <td>12</td>\n",
       "      <td>3</td>\n",
       "    </tr>\n",
       "    <tr>\n",
       "      <th>1</th>\n",
       "      <td>40.258061</td>\n",
       "      <td>-75.264680</td>\n",
       "      <td>BRIAR PATH &amp; WHITEMARSH LN;  HATFIELD TOWNSHIP...</td>\n",
       "      <td>19446.0</td>\n",
       "      <td>EMS: DIABETIC EMERGENCY</td>\n",
       "      <td>2015-12-10 17:40:00</td>\n",
       "      <td>HATFIELD TOWNSHIP</td>\n",
       "      <td>BRIAR PATH &amp; WHITEMARSH LN</td>\n",
       "      <td>1</td>\n",
       "      <td>EMS</td>\n",
       "      <td>17</td>\n",
       "      <td>12</td>\n",
       "      <td>3</td>\n",
       "    </tr>\n",
       "    <tr>\n",
       "      <th>2</th>\n",
       "      <td>40.121182</td>\n",
       "      <td>-75.351975</td>\n",
       "      <td>HAWS AVE; NORRISTOWN; 2015-12-10 @ 14:39:21-St...</td>\n",
       "      <td>19401.0</td>\n",
       "      <td>Fire: GAS-ODOR/LEAK</td>\n",
       "      <td>2015-12-10 17:40:00</td>\n",
       "      <td>NORRISTOWN</td>\n",
       "      <td>HAWS AVE</td>\n",
       "      <td>1</td>\n",
       "      <td>Fire</td>\n",
       "      <td>17</td>\n",
       "      <td>12</td>\n",
       "      <td>3</td>\n",
       "    </tr>\n",
       "    <tr>\n",
       "      <th>3</th>\n",
       "      <td>40.116153</td>\n",
       "      <td>-75.343513</td>\n",
       "      <td>AIRY ST &amp; SWEDE ST;  NORRISTOWN; Station 308A;...</td>\n",
       "      <td>19401.0</td>\n",
       "      <td>EMS: CARDIAC EMERGENCY</td>\n",
       "      <td>2015-12-10 17:40:01</td>\n",
       "      <td>NORRISTOWN</td>\n",
       "      <td>AIRY ST &amp; SWEDE ST</td>\n",
       "      <td>1</td>\n",
       "      <td>EMS</td>\n",
       "      <td>17</td>\n",
       "      <td>12</td>\n",
       "      <td>3</td>\n",
       "    </tr>\n",
       "    <tr>\n",
       "      <th>4</th>\n",
       "      <td>40.251492</td>\n",
       "      <td>-75.603350</td>\n",
       "      <td>CHERRYWOOD CT &amp; DEAD END;  LOWER POTTSGROVE; S...</td>\n",
       "      <td>NaN</td>\n",
       "      <td>EMS: DIZZINESS</td>\n",
       "      <td>2015-12-10 17:40:01</td>\n",
       "      <td>LOWER POTTSGROVE</td>\n",
       "      <td>CHERRYWOOD CT &amp; DEAD END</td>\n",
       "      <td>1</td>\n",
       "      <td>EMS</td>\n",
       "      <td>17</td>\n",
       "      <td>12</td>\n",
       "      <td>3</td>\n",
       "    </tr>\n",
       "    <tr>\n",
       "      <th>5</th>\n",
       "      <td>40.253473</td>\n",
       "      <td>-75.283245</td>\n",
       "      <td>CANNON AVE &amp; W 9TH ST;  LANSDALE; Station 345;...</td>\n",
       "      <td>19446.0</td>\n",
       "      <td>EMS: HEAD INJURY</td>\n",
       "      <td>2015-12-10 17:40:01</td>\n",
       "      <td>LANSDALE</td>\n",
       "      <td>CANNON AVE &amp; W 9TH ST</td>\n",
       "      <td>1</td>\n",
       "      <td>EMS</td>\n",
       "      <td>17</td>\n",
       "      <td>12</td>\n",
       "      <td>3</td>\n",
       "    </tr>\n",
       "    <tr>\n",
       "      <th>6</th>\n",
       "      <td>40.182111</td>\n",
       "      <td>-75.127795</td>\n",
       "      <td>LAUREL AVE &amp; OAKDALE AVE;  HORSHAM; Station 35...</td>\n",
       "      <td>19044.0</td>\n",
       "      <td>EMS: NAUSEA/VOMITING</td>\n",
       "      <td>2015-12-10 17:40:01</td>\n",
       "      <td>HORSHAM</td>\n",
       "      <td>LAUREL AVE &amp; OAKDALE AVE</td>\n",
       "      <td>1</td>\n",
       "      <td>EMS</td>\n",
       "      <td>17</td>\n",
       "      <td>12</td>\n",
       "      <td>3</td>\n",
       "    </tr>\n",
       "    <tr>\n",
       "      <th>7</th>\n",
       "      <td>40.217286</td>\n",
       "      <td>-75.405182</td>\n",
       "      <td>COLLEGEVILLE RD &amp; LYWISKI RD;  SKIPPACK; Stati...</td>\n",
       "      <td>19426.0</td>\n",
       "      <td>EMS: RESPIRATORY EMERGENCY</td>\n",
       "      <td>2015-12-10 17:40:01</td>\n",
       "      <td>SKIPPACK</td>\n",
       "      <td>COLLEGEVILLE RD &amp; LYWISKI RD</td>\n",
       "      <td>1</td>\n",
       "      <td>EMS</td>\n",
       "      <td>17</td>\n",
       "      <td>12</td>\n",
       "      <td>3</td>\n",
       "    </tr>\n",
       "    <tr>\n",
       "      <th>8</th>\n",
       "      <td>40.289027</td>\n",
       "      <td>-75.399590</td>\n",
       "      <td>MAIN ST &amp; OLD SUMNEYTOWN PIKE;  LOWER SALFORD;...</td>\n",
       "      <td>19438.0</td>\n",
       "      <td>EMS: SYNCOPAL EPISODE</td>\n",
       "      <td>2015-12-10 17:40:01</td>\n",
       "      <td>LOWER SALFORD</td>\n",
       "      <td>MAIN ST &amp; OLD SUMNEYTOWN PIKE</td>\n",
       "      <td>1</td>\n",
       "      <td>EMS</td>\n",
       "      <td>17</td>\n",
       "      <td>12</td>\n",
       "      <td>3</td>\n",
       "    </tr>\n",
       "    <tr>\n",
       "      <th>9</th>\n",
       "      <td>40.102398</td>\n",
       "      <td>-75.291458</td>\n",
       "      <td>BLUEROUTE  &amp; RAMP I476 NB TO CHEMICAL RD; PLYM...</td>\n",
       "      <td>19462.0</td>\n",
       "      <td>Traffic: VEHICLE ACCIDENT -</td>\n",
       "      <td>2015-12-10 17:40:01</td>\n",
       "      <td>PLYMOUTH</td>\n",
       "      <td>BLUEROUTE  &amp; RAMP I476 NB TO CHEMICAL RD</td>\n",
       "      <td>1</td>\n",
       "      <td>Traffic</td>\n",
       "      <td>17</td>\n",
       "      <td>12</td>\n",
       "      <td>3</td>\n",
       "    </tr>\n",
       "    <tr>\n",
       "      <th>10</th>\n",
       "      <td>40.231990</td>\n",
       "      <td>-75.251891</td>\n",
       "      <td>RT202 PKWY &amp; KNAPP RD; MONTGOMERY; 2015-12-10 ...</td>\n",
       "      <td>NaN</td>\n",
       "      <td>Traffic: VEHICLE ACCIDENT -</td>\n",
       "      <td>2015-12-10 17:40:01</td>\n",
       "      <td>MONTGOMERY</td>\n",
       "      <td>RT202 PKWY &amp; KNAPP RD</td>\n",
       "      <td>1</td>\n",
       "      <td>Traffic</td>\n",
       "      <td>17</td>\n",
       "      <td>12</td>\n",
       "      <td>3</td>\n",
       "    </tr>\n",
       "    <tr>\n",
       "      <th>11</th>\n",
       "      <td>40.084161</td>\n",
       "      <td>-75.308386</td>\n",
       "      <td>BROOK RD &amp; COLWELL LN; PLYMOUTH; 2015-12-10 @ ...</td>\n",
       "      <td>19428.0</td>\n",
       "      <td>Traffic: VEHICLE ACCIDENT -</td>\n",
       "      <td>2015-12-10 17:40:02</td>\n",
       "      <td>PLYMOUTH</td>\n",
       "      <td>BROOK RD &amp; COLWELL LN</td>\n",
       "      <td>1</td>\n",
       "      <td>Traffic</td>\n",
       "      <td>17</td>\n",
       "      <td>12</td>\n",
       "      <td>3</td>\n",
       "    </tr>\n",
       "    <tr>\n",
       "      <th>12</th>\n",
       "      <td>40.174131</td>\n",
       "      <td>-75.098491</td>\n",
       "      <td>BYBERRY AVE &amp; S WARMINSTER RD; UPPER MORELAND;...</td>\n",
       "      <td>19040.0</td>\n",
       "      <td>Traffic: VEHICLE ACCIDENT -</td>\n",
       "      <td>2015-12-10 17:40:02</td>\n",
       "      <td>UPPER MORELAND</td>\n",
       "      <td>BYBERRY AVE &amp; S WARMINSTER RD</td>\n",
       "      <td>1</td>\n",
       "      <td>Traffic</td>\n",
       "      <td>17</td>\n",
       "      <td>12</td>\n",
       "      <td>3</td>\n",
       "    </tr>\n",
       "    <tr>\n",
       "      <th>13</th>\n",
       "      <td>40.062974</td>\n",
       "      <td>-75.135914</td>\n",
       "      <td>OLD YORK RD &amp; VALLEY RD; CHELTENHAM; 2015-12-1...</td>\n",
       "      <td>19027.0</td>\n",
       "      <td>Traffic: VEHICLE ACCIDENT -</td>\n",
       "      <td>2015-12-10 17:40:02</td>\n",
       "      <td>CHELTENHAM</td>\n",
       "      <td>OLD YORK RD &amp; VALLEY RD</td>\n",
       "      <td>1</td>\n",
       "      <td>Traffic</td>\n",
       "      <td>17</td>\n",
       "      <td>12</td>\n",
       "      <td>3</td>\n",
       "    </tr>\n",
       "    <tr>\n",
       "      <th>14</th>\n",
       "      <td>40.097222</td>\n",
       "      <td>-75.376195</td>\n",
       "      <td>SCHUYLKILL EXPY &amp; CROTON RD UNDERPASS; UPPER M...</td>\n",
       "      <td>NaN</td>\n",
       "      <td>Traffic: VEHICLE ACCIDENT -</td>\n",
       "      <td>2015-12-10 17:40:02</td>\n",
       "      <td>UPPER MERION</td>\n",
       "      <td>SCHUYLKILL EXPY &amp; CROTON RD UNDERPASS</td>\n",
       "      <td>1</td>\n",
       "      <td>Traffic</td>\n",
       "      <td>17</td>\n",
       "      <td>12</td>\n",
       "      <td>3</td>\n",
       "    </tr>\n",
       "    <tr>\n",
       "      <th>15</th>\n",
       "      <td>40.223778</td>\n",
       "      <td>-75.235399</td>\n",
       "      <td>STUMP RD &amp; WITCHWOOD DR; MONTGOMERY; 2015-12-1...</td>\n",
       "      <td>18936.0</td>\n",
       "      <td>Traffic: VEHICLE ACCIDENT -</td>\n",
       "      <td>2015-12-10 17:40:02</td>\n",
       "      <td>MONTGOMERY</td>\n",
       "      <td>STUMP RD &amp; WITCHWOOD DR</td>\n",
       "      <td>1</td>\n",
       "      <td>Traffic</td>\n",
       "      <td>17</td>\n",
       "      <td>12</td>\n",
       "      <td>3</td>\n",
       "    </tr>\n",
       "    <tr>\n",
       "      <th>16</th>\n",
       "      <td>40.243258</td>\n",
       "      <td>-75.286552</td>\n",
       "      <td>SUSQUEHANNA AVE &amp; W MAIN ST;  LANSDALE; Statio...</td>\n",
       "      <td>19446.0</td>\n",
       "      <td>EMS: RESPIRATORY EMERGENCY</td>\n",
       "      <td>2015-12-10 17:46:01</td>\n",
       "      <td>LANSDALE</td>\n",
       "      <td>SUSQUEHANNA AVE &amp; W MAIN ST</td>\n",
       "      <td>1</td>\n",
       "      <td>EMS</td>\n",
       "      <td>17</td>\n",
       "      <td>12</td>\n",
       "      <td>3</td>\n",
       "    </tr>\n",
       "    <tr>\n",
       "      <th>17</th>\n",
       "      <td>40.312181</td>\n",
       "      <td>-75.574260</td>\n",
       "      <td>CHARLOTTE ST &amp; MILES RD;  NEW HANOVER; Station...</td>\n",
       "      <td>19525.0</td>\n",
       "      <td>EMS: DIZZINESS</td>\n",
       "      <td>2015-12-10 17:47:01</td>\n",
       "      <td>NEW HANOVER</td>\n",
       "      <td>CHARLOTTE ST &amp; MILES RD</td>\n",
       "      <td>1</td>\n",
       "      <td>EMS</td>\n",
       "      <td>17</td>\n",
       "      <td>12</td>\n",
       "      <td>3</td>\n",
       "    </tr>\n",
       "    <tr>\n",
       "      <th>18</th>\n",
       "      <td>40.114239</td>\n",
       "      <td>-75.338508</td>\n",
       "      <td>PENN ST &amp; ARCH ST;  NORRISTOWN; Station 308A; ...</td>\n",
       "      <td>19401.0</td>\n",
       "      <td>EMS: VEHICLE ACCIDENT</td>\n",
       "      <td>2015-12-10 17:47:01</td>\n",
       "      <td>NORRISTOWN</td>\n",
       "      <td>PENN ST &amp; ARCH ST</td>\n",
       "      <td>1</td>\n",
       "      <td>EMS</td>\n",
       "      <td>17</td>\n",
       "      <td>12</td>\n",
       "      <td>3</td>\n",
       "    </tr>\n",
       "    <tr>\n",
       "      <th>19</th>\n",
       "      <td>40.209337</td>\n",
       "      <td>-75.135266</td>\n",
       "      <td>COUNTY LINE RD &amp; WILLOW DR; HORSHAM; 2015-12-1...</td>\n",
       "      <td>18974.0</td>\n",
       "      <td>Traffic: DISABLED VEHICLE -</td>\n",
       "      <td>2015-12-10 17:47:02</td>\n",
       "      <td>HORSHAM</td>\n",
       "      <td>COUNTY LINE RD &amp; WILLOW DR</td>\n",
       "      <td>1</td>\n",
       "      <td>Traffic</td>\n",
       "      <td>17</td>\n",
       "      <td>12</td>\n",
       "      <td>3</td>\n",
       "    </tr>\n",
       "    <tr>\n",
       "      <th>20</th>\n",
       "      <td>40.114239</td>\n",
       "      <td>-75.338508</td>\n",
       "      <td>PENN ST &amp; ARCH ST; NORRISTOWN; 2015-12-10 @ 17...</td>\n",
       "      <td>19401.0</td>\n",
       "      <td>Traffic: VEHICLE ACCIDENT -</td>\n",
       "      <td>2015-12-10 17:47:02</td>\n",
       "      <td>NORRISTOWN</td>\n",
       "      <td>PENN ST &amp; ARCH ST</td>\n",
       "      <td>1</td>\n",
       "      <td>Traffic</td>\n",
       "      <td>17</td>\n",
       "      <td>12</td>\n",
       "      <td>3</td>\n",
       "    </tr>\n",
       "    <tr>\n",
       "      <th>21</th>\n",
       "      <td>40.117948</td>\n",
       "      <td>-75.209848</td>\n",
       "      <td>CHURCH RD &amp; REDCOAT DR; WHITEMARSH; 2015-12-10...</td>\n",
       "      <td>19031.0</td>\n",
       "      <td>Traffic: DISABLED VEHICLE -</td>\n",
       "      <td>2015-12-10 17:57:02</td>\n",
       "      <td>WHITEMARSH</td>\n",
       "      <td>CHURCH RD &amp; REDCOAT DR</td>\n",
       "      <td>1</td>\n",
       "      <td>Traffic</td>\n",
       "      <td>17</td>\n",
       "      <td>12</td>\n",
       "      <td>3</td>\n",
       "    </tr>\n",
       "    <tr>\n",
       "      <th>22</th>\n",
       "      <td>40.199006</td>\n",
       "      <td>-75.300058</td>\n",
       "      <td>LILAC CT &amp; PRIMROSE DR; UPPER GWYNEDD; 2015-12...</td>\n",
       "      <td>19446.0</td>\n",
       "      <td>Fire: APPLIANCE FIRE</td>\n",
       "      <td>2015-12-10 18:02:01</td>\n",
       "      <td>UPPER GWYNEDD</td>\n",
       "      <td>LILAC CT &amp; PRIMROSE DR</td>\n",
       "      <td>1</td>\n",
       "      <td>Fire</td>\n",
       "      <td>18</td>\n",
       "      <td>12</td>\n",
       "      <td>3</td>\n",
       "    </tr>\n",
       "    <tr>\n",
       "      <th>23</th>\n",
       "      <td>40.143326</td>\n",
       "      <td>-75.422819</td>\n",
       "      <td>RT422  &amp; PAWLINGS RD OVERPASS; LOWER PROVIDENC...</td>\n",
       "      <td>NaN</td>\n",
       "      <td>Traffic: DISABLED VEHICLE -</td>\n",
       "      <td>2015-12-10 18:02:02</td>\n",
       "      <td>LOWER PROVIDENCE</td>\n",
       "      <td>RT422  &amp; PAWLINGS RD OVERPASS</td>\n",
       "      <td>1</td>\n",
       "      <td>Traffic</td>\n",
       "      <td>18</td>\n",
       "      <td>12</td>\n",
       "      <td>3</td>\n",
       "    </tr>\n",
       "    <tr>\n",
       "      <th>24</th>\n",
       "      <td>40.153268</td>\n",
       "      <td>-75.189558</td>\n",
       "      <td>SUMMIT AVE &amp; RT309 UNDERPASS; UPPER DUBLIN; 20...</td>\n",
       "      <td>NaN</td>\n",
       "      <td>Traffic: VEHICLE ACCIDENT -</td>\n",
       "      <td>2015-12-10 18:02:02</td>\n",
       "      <td>UPPER DUBLIN</td>\n",
       "      <td>SUMMIT AVE &amp; RT309 UNDERPASS</td>\n",
       "      <td>1</td>\n",
       "      <td>Traffic</td>\n",
       "      <td>18</td>\n",
       "      <td>12</td>\n",
       "      <td>3</td>\n",
       "    </tr>\n",
       "    <tr>\n",
       "      <th>25</th>\n",
       "      <td>40.133037</td>\n",
       "      <td>-75.408463</td>\n",
       "      <td>SHANNONDELL DR &amp; SHANNONDELL BLVD;  LOWER PROV...</td>\n",
       "      <td>19403.0</td>\n",
       "      <td>EMS: GENERAL WEAKNESS</td>\n",
       "      <td>2015-12-10 18:06:25</td>\n",
       "      <td>LOWER PROVIDENCE</td>\n",
       "      <td>SHANNONDELL DR &amp; SHANNONDELL BLVD</td>\n",
       "      <td>1</td>\n",
       "      <td>EMS</td>\n",
       "      <td>18</td>\n",
       "      <td>12</td>\n",
       "      <td>3</td>\n",
       "    </tr>\n",
       "    <tr>\n",
       "      <th>26</th>\n",
       "      <td>40.155283</td>\n",
       "      <td>-75.264230</td>\n",
       "      <td>PENLLYN BLUE BELL PIKE &amp; VILLAGE CIR;  WHITPAI...</td>\n",
       "      <td>19422.0</td>\n",
       "      <td>EMS: HEAD INJURY</td>\n",
       "      <td>2015-12-10 18:06:25</td>\n",
       "      <td>WHITPAIN</td>\n",
       "      <td>PENLLYN BLUE BELL PIKE &amp; VILLAGE CIR</td>\n",
       "      <td>1</td>\n",
       "      <td>EMS</td>\n",
       "      <td>18</td>\n",
       "      <td>12</td>\n",
       "      <td>3</td>\n",
       "    </tr>\n",
       "    <tr>\n",
       "      <th>27</th>\n",
       "      <td>40.028903</td>\n",
       "      <td>-75.351822</td>\n",
       "      <td>EDENTON PL &amp; DURHAM DR; DELAWARE COUNTY; 2015-...</td>\n",
       "      <td>19085.0</td>\n",
       "      <td>Fire: CARBON MONOXIDE DETECTOR</td>\n",
       "      <td>2015-12-10 18:06:25</td>\n",
       "      <td>DELAWARE COUNTY</td>\n",
       "      <td>EDENTON PL &amp; DURHAM DR</td>\n",
       "      <td>1</td>\n",
       "      <td>Fire</td>\n",
       "      <td>18</td>\n",
       "      <td>12</td>\n",
       "      <td>3</td>\n",
       "    </tr>\n",
       "    <tr>\n",
       "      <th>28</th>\n",
       "      <td>40.097222</td>\n",
       "      <td>-75.376195</td>\n",
       "      <td>SCHUYLKILL EXPY &amp; WEADLEY RD OVERPASS; UPPER M...</td>\n",
       "      <td>NaN</td>\n",
       "      <td>Traffic: VEHICLE ACCIDENT -</td>\n",
       "      <td>2015-12-10 18:06:26</td>\n",
       "      <td>UPPER MERION</td>\n",
       "      <td>SCHUYLKILL EXPY &amp; WEADLEY RD OVERPASS</td>\n",
       "      <td>1</td>\n",
       "      <td>Traffic</td>\n",
       "      <td>18</td>\n",
       "      <td>12</td>\n",
       "      <td>3</td>\n",
       "    </tr>\n",
       "    <tr>\n",
       "      <th>29</th>\n",
       "      <td>40.209337</td>\n",
       "      <td>-75.135266</td>\n",
       "      <td>COUNTY LINE RD &amp; WILLOW DR; HORSHAM; 2015-12-1...</td>\n",
       "      <td>18974.0</td>\n",
       "      <td>Traffic: DISABLED VEHICLE -</td>\n",
       "      <td>2015-12-10 18:11:01</td>\n",
       "      <td>HORSHAM</td>\n",
       "      <td>COUNTY LINE RD &amp; WILLOW DR</td>\n",
       "      <td>1</td>\n",
       "      <td>Traffic</td>\n",
       "      <td>18</td>\n",
       "      <td>12</td>\n",
       "      <td>3</td>\n",
       "    </tr>\n",
       "    <tr>\n",
       "      <th>...</th>\n",
       "      <td>...</td>\n",
       "      <td>...</td>\n",
       "      <td>...</td>\n",
       "      <td>...</td>\n",
       "      <td>...</td>\n",
       "      <td>...</td>\n",
       "      <td>...</td>\n",
       "      <td>...</td>\n",
       "      <td>...</td>\n",
       "      <td>...</td>\n",
       "      <td>...</td>\n",
       "      <td>...</td>\n",
       "      <td>...</td>\n",
       "    </tr>\n",
       "    <tr>\n",
       "      <th>70</th>\n",
       "      <td>40.133037</td>\n",
       "      <td>-75.408463</td>\n",
       "      <td>SHANNONDELL DR &amp; SHANNONDELL BLVD;  LOWER PROV...</td>\n",
       "      <td>19403.0</td>\n",
       "      <td>EMS: SUBJECT IN PAIN</td>\n",
       "      <td>2015-12-10 19:52:01</td>\n",
       "      <td>LOWER PROVIDENCE</td>\n",
       "      <td>SHANNONDELL DR &amp; SHANNONDELL BLVD</td>\n",
       "      <td>1</td>\n",
       "      <td>EMS</td>\n",
       "      <td>19</td>\n",
       "      <td>12</td>\n",
       "      <td>3</td>\n",
       "    </tr>\n",
       "    <tr>\n",
       "      <th>71</th>\n",
       "      <td>40.154659</td>\n",
       "      <td>-75.221544</td>\n",
       "      <td>BUTLER AVE &amp; N RIDGE AVE;  AMBLER; Station 351...</td>\n",
       "      <td>19002.0</td>\n",
       "      <td>EMS: SEIZURES</td>\n",
       "      <td>2015-12-10 19:57:01</td>\n",
       "      <td>AMBLER</td>\n",
       "      <td>BUTLER AVE &amp; N RIDGE AVE</td>\n",
       "      <td>1</td>\n",
       "      <td>EMS</td>\n",
       "      <td>19</td>\n",
       "      <td>12</td>\n",
       "      <td>3</td>\n",
       "    </tr>\n",
       "    <tr>\n",
       "      <th>72</th>\n",
       "      <td>40.024967</td>\n",
       "      <td>-75.282905</td>\n",
       "      <td>AVIGNON DR &amp; DEAD END; LOWER MERION; 2015-12-1...</td>\n",
       "      <td>NaN</td>\n",
       "      <td>Fire: GAS-ODOR/LEAK</td>\n",
       "      <td>2015-12-10 20:06:01</td>\n",
       "      <td>LOWER MERION</td>\n",
       "      <td>AVIGNON DR &amp; DEAD END</td>\n",
       "      <td>1</td>\n",
       "      <td>Fire</td>\n",
       "      <td>20</td>\n",
       "      <td>12</td>\n",
       "      <td>3</td>\n",
       "    </tr>\n",
       "    <tr>\n",
       "      <th>73</th>\n",
       "      <td>39.986770</td>\n",
       "      <td>-75.275433</td>\n",
       "      <td>LLOYD LN &amp; DRAYTON LN;  LOWER MERION; Station ...</td>\n",
       "      <td>19096.0</td>\n",
       "      <td>EMS: DIABETIC EMERGENCY</td>\n",
       "      <td>2015-12-10 20:07:01</td>\n",
       "      <td>LOWER MERION</td>\n",
       "      <td>LLOYD LN &amp; DRAYTON LN</td>\n",
       "      <td>1</td>\n",
       "      <td>EMS</td>\n",
       "      <td>20</td>\n",
       "      <td>12</td>\n",
       "      <td>3</td>\n",
       "    </tr>\n",
       "    <tr>\n",
       "      <th>74</th>\n",
       "      <td>40.253788</td>\n",
       "      <td>-75.216437</td>\n",
       "      <td>DELMAR CT &amp; CLAREMONT DR;  MONTGOMERY; Station...</td>\n",
       "      <td>19454.0</td>\n",
       "      <td>EMS: SUBJECT IN PAIN</td>\n",
       "      <td>2015-12-10 20:12:01</td>\n",
       "      <td>MONTGOMERY</td>\n",
       "      <td>DELMAR CT &amp; CLAREMONT DR</td>\n",
       "      <td>1</td>\n",
       "      <td>EMS</td>\n",
       "      <td>20</td>\n",
       "      <td>12</td>\n",
       "      <td>3</td>\n",
       "    </tr>\n",
       "    <tr>\n",
       "      <th>75</th>\n",
       "      <td>40.245006</td>\n",
       "      <td>-75.593048</td>\n",
       "      <td>HIGH ST &amp; BROWN ST;  LOWER POTTSGROVE; Station...</td>\n",
       "      <td>19464.0</td>\n",
       "      <td>EMS: UNKNOWN MEDICAL EMERGENCY</td>\n",
       "      <td>2015-12-10 20:12:01</td>\n",
       "      <td>LOWER POTTSGROVE</td>\n",
       "      <td>HIGH ST &amp; BROWN ST</td>\n",
       "      <td>1</td>\n",
       "      <td>EMS</td>\n",
       "      <td>20</td>\n",
       "      <td>12</td>\n",
       "      <td>3</td>\n",
       "    </tr>\n",
       "    <tr>\n",
       "      <th>76</th>\n",
       "      <td>40.295271</td>\n",
       "      <td>-75.328400</td>\n",
       "      <td>COWPATH RD &amp; MEADOW WOOD LN;  FRANCONIA; Stati...</td>\n",
       "      <td>18964.0</td>\n",
       "      <td>EMS: HEAD INJURY</td>\n",
       "      <td>2015-12-10 20:12:02</td>\n",
       "      <td>FRANCONIA</td>\n",
       "      <td>COWPATH RD &amp; MEADOW WOOD LN</td>\n",
       "      <td>1</td>\n",
       "      <td>EMS</td>\n",
       "      <td>20</td>\n",
       "      <td>12</td>\n",
       "      <td>3</td>\n",
       "    </tr>\n",
       "    <tr>\n",
       "      <th>77</th>\n",
       "      <td>40.204837</td>\n",
       "      <td>-75.222821</td>\n",
       "      <td>WELSH RD &amp; LOWER STATE RD; HORSHAM; 2015-12-10...</td>\n",
       "      <td>19002.0</td>\n",
       "      <td>Traffic: VEHICLE ACCIDENT -</td>\n",
       "      <td>2015-12-10 20:12:03</td>\n",
       "      <td>HORSHAM</td>\n",
       "      <td>WELSH RD &amp; LOWER STATE RD</td>\n",
       "      <td>1</td>\n",
       "      <td>Traffic</td>\n",
       "      <td>20</td>\n",
       "      <td>12</td>\n",
       "      <td>3</td>\n",
       "    </tr>\n",
       "    <tr>\n",
       "      <th>78</th>\n",
       "      <td>40.244201</td>\n",
       "      <td>-75.582403</td>\n",
       "      <td>HIGH ST &amp; S PARK RD; LOWER POTTSGROVE; 2015-12...</td>\n",
       "      <td>19464.0</td>\n",
       "      <td>Traffic: DISABLED VEHICLE -</td>\n",
       "      <td>2015-12-10 20:27:02</td>\n",
       "      <td>LOWER POTTSGROVE</td>\n",
       "      <td>HIGH ST &amp; S PARK RD</td>\n",
       "      <td>1</td>\n",
       "      <td>Traffic</td>\n",
       "      <td>20</td>\n",
       "      <td>12</td>\n",
       "      <td>3</td>\n",
       "    </tr>\n",
       "    <tr>\n",
       "      <th>79</th>\n",
       "      <td>40.231511</td>\n",
       "      <td>-75.654560</td>\n",
       "      <td>HANOVER ST &amp; E URNER ST;  CHESTER COUNTY; Stat...</td>\n",
       "      <td>19465.0</td>\n",
       "      <td>EMS: FALL VICTIM</td>\n",
       "      <td>2015-12-10 20:31:01</td>\n",
       "      <td>CHESTER COUNTY</td>\n",
       "      <td>HANOVER ST &amp; E URNER ST</td>\n",
       "      <td>1</td>\n",
       "      <td>EMS</td>\n",
       "      <td>20</td>\n",
       "      <td>12</td>\n",
       "      <td>3</td>\n",
       "    </tr>\n",
       "    <tr>\n",
       "      <th>80</th>\n",
       "      <td>40.114202</td>\n",
       "      <td>-75.326804</td>\n",
       "      <td>NEW HOPE ST &amp; CEDAR LN;  NORRISTOWN; Station 3...</td>\n",
       "      <td>19401.0</td>\n",
       "      <td>EMS: FALL VICTIM</td>\n",
       "      <td>2015-12-10 20:31:01</td>\n",
       "      <td>NORRISTOWN</td>\n",
       "      <td>NEW HOPE ST &amp; CEDAR LN</td>\n",
       "      <td>1</td>\n",
       "      <td>EMS</td>\n",
       "      <td>20</td>\n",
       "      <td>12</td>\n",
       "      <td>3</td>\n",
       "    </tr>\n",
       "    <tr>\n",
       "      <th>81</th>\n",
       "      <td>40.003955</td>\n",
       "      <td>-75.220701</td>\n",
       "      <td>BELMONT AVE &amp; E CITY AVE; LOWER MERION; 2015-1...</td>\n",
       "      <td>19004.0</td>\n",
       "      <td>Traffic: VEHICLE ACCIDENT -</td>\n",
       "      <td>2015-12-10 20:41:02</td>\n",
       "      <td>LOWER MERION</td>\n",
       "      <td>BELMONT AVE &amp; E CITY AVE</td>\n",
       "      <td>1</td>\n",
       "      <td>Traffic</td>\n",
       "      <td>20</td>\n",
       "      <td>12</td>\n",
       "      <td>3</td>\n",
       "    </tr>\n",
       "    <tr>\n",
       "      <th>82</th>\n",
       "      <td>40.290693</td>\n",
       "      <td>-75.576661</td>\n",
       "      <td>SWAMP PIKE &amp; ROMIG RD;  NEW HANOVER; Station 3...</td>\n",
       "      <td>19525.0</td>\n",
       "      <td>EMS: SYNCOPAL EPISODE</td>\n",
       "      <td>2015-12-10 20:47:01</td>\n",
       "      <td>NEW HANOVER</td>\n",
       "      <td>SWAMP PIKE &amp; ROMIG RD</td>\n",
       "      <td>1</td>\n",
       "      <td>EMS</td>\n",
       "      <td>20</td>\n",
       "      <td>12</td>\n",
       "      <td>3</td>\n",
       "    </tr>\n",
       "    <tr>\n",
       "      <th>83</th>\n",
       "      <td>40.007435</td>\n",
       "      <td>-75.248989</td>\n",
       "      <td>MEADOW LN &amp; MONTGOMERY AVE; LOWER MERION; 2015...</td>\n",
       "      <td>19066.0</td>\n",
       "      <td>Fire: CARBON MONOXIDE DETECTOR</td>\n",
       "      <td>2015-12-10 20:47:01</td>\n",
       "      <td>LOWER MERION</td>\n",
       "      <td>MEADOW LN &amp; MONTGOMERY AVE</td>\n",
       "      <td>1</td>\n",
       "      <td>Fire</td>\n",
       "      <td>20</td>\n",
       "      <td>12</td>\n",
       "      <td>3</td>\n",
       "    </tr>\n",
       "    <tr>\n",
       "      <th>84</th>\n",
       "      <td>40.230455</td>\n",
       "      <td>-75.633981</td>\n",
       "      <td>WORTH BLVD &amp; TYSON ST;  CHESTER COUNTY; Statio...</td>\n",
       "      <td>19465.0</td>\n",
       "      <td>EMS: MEDICAL ALERT ALARM</td>\n",
       "      <td>2015-12-10 20:52:02</td>\n",
       "      <td>CHESTER COUNTY</td>\n",
       "      <td>WORTH BLVD &amp; TYSON ST</td>\n",
       "      <td>1</td>\n",
       "      <td>EMS</td>\n",
       "      <td>20</td>\n",
       "      <td>12</td>\n",
       "      <td>3</td>\n",
       "    </tr>\n",
       "    <tr>\n",
       "      <th>85</th>\n",
       "      <td>40.034867</td>\n",
       "      <td>-75.327606</td>\n",
       "      <td>MONTGOMERY AVE &amp; THORNBROOK AVE;  LOWER MERION...</td>\n",
       "      <td>19010.0</td>\n",
       "      <td>EMS: RESPIRATORY EMERGENCY</td>\n",
       "      <td>2015-12-10 20:52:02</td>\n",
       "      <td>LOWER MERION</td>\n",
       "      <td>MONTGOMERY AVE &amp; THORNBROOK AVE</td>\n",
       "      <td>1</td>\n",
       "      <td>EMS</td>\n",
       "      <td>20</td>\n",
       "      <td>12</td>\n",
       "      <td>3</td>\n",
       "    </tr>\n",
       "    <tr>\n",
       "      <th>86</th>\n",
       "      <td>40.016739</td>\n",
       "      <td>-75.265160</td>\n",
       "      <td>PENN VALLEY RD &amp; MANOR RD;  LOWER MERION; Stat...</td>\n",
       "      <td>19072.0</td>\n",
       "      <td>EMS: ABDOMINAL PAINS</td>\n",
       "      <td>2015-12-10 20:57:01</td>\n",
       "      <td>LOWER MERION</td>\n",
       "      <td>PENN VALLEY RD &amp; MANOR RD</td>\n",
       "      <td>1</td>\n",
       "      <td>EMS</td>\n",
       "      <td>20</td>\n",
       "      <td>12</td>\n",
       "      <td>3</td>\n",
       "    </tr>\n",
       "    <tr>\n",
       "      <th>87</th>\n",
       "      <td>40.414249</td>\n",
       "      <td>-75.509016</td>\n",
       "      <td>BLOMMER DR &amp; GRAVEL PIKE; UPPER HANOVER; 2015-...</td>\n",
       "      <td>18041.0</td>\n",
       "      <td>Fire: FIRE ALARM</td>\n",
       "      <td>2015-12-10 21:07:01</td>\n",
       "      <td>UPPER HANOVER</td>\n",
       "      <td>BLOMMER DR &amp; GRAVEL PIKE</td>\n",
       "      <td>1</td>\n",
       "      <td>Fire</td>\n",
       "      <td>21</td>\n",
       "      <td>12</td>\n",
       "      <td>3</td>\n",
       "    </tr>\n",
       "    <tr>\n",
       "      <th>88</th>\n",
       "      <td>40.080913</td>\n",
       "      <td>-75.202665</td>\n",
       "      <td>STENTON AVE &amp; E EVERGREEN AVE;  SPRINGFIELD; S...</td>\n",
       "      <td>19038.0</td>\n",
       "      <td>EMS: RESPIRATORY EMERGENCY</td>\n",
       "      <td>2015-12-10 21:12:01</td>\n",
       "      <td>SPRINGFIELD</td>\n",
       "      <td>STENTON AVE &amp; E EVERGREEN AVE</td>\n",
       "      <td>1</td>\n",
       "      <td>EMS</td>\n",
       "      <td>21</td>\n",
       "      <td>12</td>\n",
       "      <td>3</td>\n",
       "    </tr>\n",
       "    <tr>\n",
       "      <th>89</th>\n",
       "      <td>40.237258</td>\n",
       "      <td>-75.220406</td>\n",
       "      <td>HILLSIDE CT &amp; NESHAMINY FALLS CIR;  MONTGOMERY...</td>\n",
       "      <td>19454.0</td>\n",
       "      <td>EMS: UNRESPONSIVE SUBJECT</td>\n",
       "      <td>2015-12-10 21:17:02</td>\n",
       "      <td>MONTGOMERY</td>\n",
       "      <td>HILLSIDE CT &amp; NESHAMINY FALLS CIR</td>\n",
       "      <td>1</td>\n",
       "      <td>EMS</td>\n",
       "      <td>21</td>\n",
       "      <td>12</td>\n",
       "      <td>3</td>\n",
       "    </tr>\n",
       "    <tr>\n",
       "      <th>90</th>\n",
       "      <td>40.250016</td>\n",
       "      <td>-75.592159</td>\n",
       "      <td>N PLEASANT VIEW RD &amp; WELSH DR; LOWER POTTSGROV...</td>\n",
       "      <td>19464.0</td>\n",
       "      <td>Traffic: ROAD OBSTRUCTION -</td>\n",
       "      <td>2015-12-10 21:22:00</td>\n",
       "      <td>LOWER POTTSGROVE</td>\n",
       "      <td>N PLEASANT VIEW RD &amp; WELSH DR</td>\n",
       "      <td>1</td>\n",
       "      <td>Traffic</td>\n",
       "      <td>21</td>\n",
       "      <td>12</td>\n",
       "      <td>3</td>\n",
       "    </tr>\n",
       "    <tr>\n",
       "      <th>91</th>\n",
       "      <td>40.246932</td>\n",
       "      <td>-75.643920</td>\n",
       "      <td>CHESTNUT ST &amp; N FRANKLIN ST; POTTSTOWN; 2015-1...</td>\n",
       "      <td>19464.0</td>\n",
       "      <td>Fire: PUMP DETAIL</td>\n",
       "      <td>2015-12-10 21:27:01</td>\n",
       "      <td>POTTSTOWN</td>\n",
       "      <td>CHESTNUT ST &amp; N FRANKLIN ST</td>\n",
       "      <td>1</td>\n",
       "      <td>Fire</td>\n",
       "      <td>21</td>\n",
       "      <td>12</td>\n",
       "      <td>3</td>\n",
       "    </tr>\n",
       "    <tr>\n",
       "      <th>92</th>\n",
       "      <td>40.230284</td>\n",
       "      <td>-75.354001</td>\n",
       "      <td>BUSTARD RD &amp; KRIEBEL RD; TOWAMENCIN; 2015-12-1...</td>\n",
       "      <td>19438.0</td>\n",
       "      <td>Traffic: VEHICLE ACCIDENT -</td>\n",
       "      <td>2015-12-10 21:37:01</td>\n",
       "      <td>TOWAMENCIN</td>\n",
       "      <td>BUSTARD RD &amp; KRIEBEL RD</td>\n",
       "      <td>1</td>\n",
       "      <td>Traffic</td>\n",
       "      <td>21</td>\n",
       "      <td>12</td>\n",
       "      <td>3</td>\n",
       "    </tr>\n",
       "    <tr>\n",
       "      <th>93</th>\n",
       "      <td>40.085487</td>\n",
       "      <td>-75.097708</td>\n",
       "      <td>FOX CHASE RD &amp; LOS ANGELES AVE; ROCKLEDGE; 201...</td>\n",
       "      <td>19046.0</td>\n",
       "      <td>Fire: FIRE INVESTIGATION</td>\n",
       "      <td>2015-12-10 21:41:00</td>\n",
       "      <td>ROCKLEDGE</td>\n",
       "      <td>FOX CHASE RD &amp; LOS ANGELES AVE</td>\n",
       "      <td>1</td>\n",
       "      <td>Fire</td>\n",
       "      <td>21</td>\n",
       "      <td>12</td>\n",
       "      <td>3</td>\n",
       "    </tr>\n",
       "    <tr>\n",
       "      <th>94</th>\n",
       "      <td>40.234418</td>\n",
       "      <td>-75.351322</td>\n",
       "      <td>BUSTARD RD &amp; OLD MORRIS RD; TOWAMENCIN; 2015-1...</td>\n",
       "      <td>19438.0</td>\n",
       "      <td>Traffic: VEHICLE ACCIDENT -</td>\n",
       "      <td>2015-12-10 21:47:01</td>\n",
       "      <td>TOWAMENCIN</td>\n",
       "      <td>BUSTARD RD &amp; OLD MORRIS RD</td>\n",
       "      <td>1</td>\n",
       "      <td>Traffic</td>\n",
       "      <td>21</td>\n",
       "      <td>12</td>\n",
       "      <td>3</td>\n",
       "    </tr>\n",
       "    <tr>\n",
       "      <th>95</th>\n",
       "      <td>40.083078</td>\n",
       "      <td>-75.101117</td>\n",
       "      <td>SHELMIRE ST &amp; CEDAR RD; ABINGTON; 2015-12-10 @...</td>\n",
       "      <td>19027.0</td>\n",
       "      <td>Traffic: DISABLED VEHICLE -</td>\n",
       "      <td>2015-12-10 21:52:01</td>\n",
       "      <td>ABINGTON</td>\n",
       "      <td>SHELMIRE ST &amp; CEDAR RD</td>\n",
       "      <td>1</td>\n",
       "      <td>Traffic</td>\n",
       "      <td>21</td>\n",
       "      <td>12</td>\n",
       "      <td>3</td>\n",
       "    </tr>\n",
       "    <tr>\n",
       "      <th>96</th>\n",
       "      <td>40.276304</td>\n",
       "      <td>-75.565024</td>\n",
       "      <td>SWAMP PIKE &amp; SANATOGA RD; NEW HANOVER; 2015-12...</td>\n",
       "      <td>19525.0</td>\n",
       "      <td>Traffic: DISABLED VEHICLE -</td>\n",
       "      <td>2015-12-10 22:01:01</td>\n",
       "      <td>NEW HANOVER</td>\n",
       "      <td>SWAMP PIKE &amp; SANATOGA RD</td>\n",
       "      <td>1</td>\n",
       "      <td>Traffic</td>\n",
       "      <td>22</td>\n",
       "      <td>12</td>\n",
       "      <td>3</td>\n",
       "    </tr>\n",
       "    <tr>\n",
       "      <th>97</th>\n",
       "      <td>40.095320</td>\n",
       "      <td>-75.193482</td>\n",
       "      <td>CHELTENHAM AVE &amp; DELPHINE RD; SPRINGFIELD; 201...</td>\n",
       "      <td>19038.0</td>\n",
       "      <td>Traffic: VEHICLE ACCIDENT -</td>\n",
       "      <td>2015-12-10 22:02:01</td>\n",
       "      <td>SPRINGFIELD</td>\n",
       "      <td>CHELTENHAM AVE &amp; DELPHINE RD</td>\n",
       "      <td>1</td>\n",
       "      <td>Traffic</td>\n",
       "      <td>22</td>\n",
       "      <td>12</td>\n",
       "      <td>3</td>\n",
       "    </tr>\n",
       "    <tr>\n",
       "      <th>98</th>\n",
       "      <td>40.151476</td>\n",
       "      <td>-75.396624</td>\n",
       "      <td>MARK LN &amp; IVY CIR;  LOWER PROVIDENCE; Station ...</td>\n",
       "      <td>19403.0</td>\n",
       "      <td>EMS: CVA/STROKE</td>\n",
       "      <td>2015-12-10 22:07:02</td>\n",
       "      <td>LOWER PROVIDENCE</td>\n",
       "      <td>MARK LN &amp; IVY CIR</td>\n",
       "      <td>1</td>\n",
       "      <td>EMS</td>\n",
       "      <td>22</td>\n",
       "      <td>12</td>\n",
       "      <td>3</td>\n",
       "    </tr>\n",
       "    <tr>\n",
       "      <th>99</th>\n",
       "      <td>40.127611</td>\n",
       "      <td>-75.379915</td>\n",
       "      <td>HEMLOCK RD &amp; SHIRLEY LN;  WEST NORRITON; Stati...</td>\n",
       "      <td>19403.0</td>\n",
       "      <td>EMS: FALL VICTIM</td>\n",
       "      <td>2015-12-10 22:27:01</td>\n",
       "      <td>WEST NORRITON</td>\n",
       "      <td>HEMLOCK RD &amp; SHIRLEY LN</td>\n",
       "      <td>1</td>\n",
       "      <td>EMS</td>\n",
       "      <td>22</td>\n",
       "      <td>12</td>\n",
       "      <td>3</td>\n",
       "    </tr>\n",
       "  </tbody>\n",
       "</table>\n",
       "<p>100 rows × 13 columns</p>\n",
       "</div>"
      ],
      "text/plain": [
       "          lat        lng                                               desc  \\\n",
       "0   40.297876 -75.581294  REINDEER CT & DEAD END;  NEW HANOVER; Station ...   \n",
       "1   40.258061 -75.264680  BRIAR PATH & WHITEMARSH LN;  HATFIELD TOWNSHIP...   \n",
       "2   40.121182 -75.351975  HAWS AVE; NORRISTOWN; 2015-12-10 @ 14:39:21-St...   \n",
       "3   40.116153 -75.343513  AIRY ST & SWEDE ST;  NORRISTOWN; Station 308A;...   \n",
       "4   40.251492 -75.603350  CHERRYWOOD CT & DEAD END;  LOWER POTTSGROVE; S...   \n",
       "5   40.253473 -75.283245  CANNON AVE & W 9TH ST;  LANSDALE; Station 345;...   \n",
       "6   40.182111 -75.127795  LAUREL AVE & OAKDALE AVE;  HORSHAM; Station 35...   \n",
       "7   40.217286 -75.405182  COLLEGEVILLE RD & LYWISKI RD;  SKIPPACK; Stati...   \n",
       "8   40.289027 -75.399590  MAIN ST & OLD SUMNEYTOWN PIKE;  LOWER SALFORD;...   \n",
       "9   40.102398 -75.291458  BLUEROUTE  & RAMP I476 NB TO CHEMICAL RD; PLYM...   \n",
       "10  40.231990 -75.251891  RT202 PKWY & KNAPP RD; MONTGOMERY; 2015-12-10 ...   \n",
       "11  40.084161 -75.308386  BROOK RD & COLWELL LN; PLYMOUTH; 2015-12-10 @ ...   \n",
       "12  40.174131 -75.098491  BYBERRY AVE & S WARMINSTER RD; UPPER MORELAND;...   \n",
       "13  40.062974 -75.135914  OLD YORK RD & VALLEY RD; CHELTENHAM; 2015-12-1...   \n",
       "14  40.097222 -75.376195  SCHUYLKILL EXPY & CROTON RD UNDERPASS; UPPER M...   \n",
       "15  40.223778 -75.235399  STUMP RD & WITCHWOOD DR; MONTGOMERY; 2015-12-1...   \n",
       "16  40.243258 -75.286552  SUSQUEHANNA AVE & W MAIN ST;  LANSDALE; Statio...   \n",
       "17  40.312181 -75.574260  CHARLOTTE ST & MILES RD;  NEW HANOVER; Station...   \n",
       "18  40.114239 -75.338508  PENN ST & ARCH ST;  NORRISTOWN; Station 308A; ...   \n",
       "19  40.209337 -75.135266  COUNTY LINE RD & WILLOW DR; HORSHAM; 2015-12-1...   \n",
       "20  40.114239 -75.338508  PENN ST & ARCH ST; NORRISTOWN; 2015-12-10 @ 17...   \n",
       "21  40.117948 -75.209848  CHURCH RD & REDCOAT DR; WHITEMARSH; 2015-12-10...   \n",
       "22  40.199006 -75.300058  LILAC CT & PRIMROSE DR; UPPER GWYNEDD; 2015-12...   \n",
       "23  40.143326 -75.422819  RT422  & PAWLINGS RD OVERPASS; LOWER PROVIDENC...   \n",
       "24  40.153268 -75.189558  SUMMIT AVE & RT309 UNDERPASS; UPPER DUBLIN; 20...   \n",
       "25  40.133037 -75.408463  SHANNONDELL DR & SHANNONDELL BLVD;  LOWER PROV...   \n",
       "26  40.155283 -75.264230  PENLLYN BLUE BELL PIKE & VILLAGE CIR;  WHITPAI...   \n",
       "27  40.028903 -75.351822  EDENTON PL & DURHAM DR; DELAWARE COUNTY; 2015-...   \n",
       "28  40.097222 -75.376195  SCHUYLKILL EXPY & WEADLEY RD OVERPASS; UPPER M...   \n",
       "29  40.209337 -75.135266  COUNTY LINE RD & WILLOW DR; HORSHAM; 2015-12-1...   \n",
       "..        ...        ...                                                ...   \n",
       "70  40.133037 -75.408463  SHANNONDELL DR & SHANNONDELL BLVD;  LOWER PROV...   \n",
       "71  40.154659 -75.221544  BUTLER AVE & N RIDGE AVE;  AMBLER; Station 351...   \n",
       "72  40.024967 -75.282905  AVIGNON DR & DEAD END; LOWER MERION; 2015-12-1...   \n",
       "73  39.986770 -75.275433  LLOYD LN & DRAYTON LN;  LOWER MERION; Station ...   \n",
       "74  40.253788 -75.216437  DELMAR CT & CLAREMONT DR;  MONTGOMERY; Station...   \n",
       "75  40.245006 -75.593048  HIGH ST & BROWN ST;  LOWER POTTSGROVE; Station...   \n",
       "76  40.295271 -75.328400  COWPATH RD & MEADOW WOOD LN;  FRANCONIA; Stati...   \n",
       "77  40.204837 -75.222821  WELSH RD & LOWER STATE RD; HORSHAM; 2015-12-10...   \n",
       "78  40.244201 -75.582403  HIGH ST & S PARK RD; LOWER POTTSGROVE; 2015-12...   \n",
       "79  40.231511 -75.654560  HANOVER ST & E URNER ST;  CHESTER COUNTY; Stat...   \n",
       "80  40.114202 -75.326804  NEW HOPE ST & CEDAR LN;  NORRISTOWN; Station 3...   \n",
       "81  40.003955 -75.220701  BELMONT AVE & E CITY AVE; LOWER MERION; 2015-1...   \n",
       "82  40.290693 -75.576661  SWAMP PIKE & ROMIG RD;  NEW HANOVER; Station 3...   \n",
       "83  40.007435 -75.248989  MEADOW LN & MONTGOMERY AVE; LOWER MERION; 2015...   \n",
       "84  40.230455 -75.633981  WORTH BLVD & TYSON ST;  CHESTER COUNTY; Statio...   \n",
       "85  40.034867 -75.327606  MONTGOMERY AVE & THORNBROOK AVE;  LOWER MERION...   \n",
       "86  40.016739 -75.265160  PENN VALLEY RD & MANOR RD;  LOWER MERION; Stat...   \n",
       "87  40.414249 -75.509016  BLOMMER DR & GRAVEL PIKE; UPPER HANOVER; 2015-...   \n",
       "88  40.080913 -75.202665  STENTON AVE & E EVERGREEN AVE;  SPRINGFIELD; S...   \n",
       "89  40.237258 -75.220406  HILLSIDE CT & NESHAMINY FALLS CIR;  MONTGOMERY...   \n",
       "90  40.250016 -75.592159  N PLEASANT VIEW RD & WELSH DR; LOWER POTTSGROV...   \n",
       "91  40.246932 -75.643920  CHESTNUT ST & N FRANKLIN ST; POTTSTOWN; 2015-1...   \n",
       "92  40.230284 -75.354001  BUSTARD RD & KRIEBEL RD; TOWAMENCIN; 2015-12-1...   \n",
       "93  40.085487 -75.097708  FOX CHASE RD & LOS ANGELES AVE; ROCKLEDGE; 201...   \n",
       "94  40.234418 -75.351322  BUSTARD RD & OLD MORRIS RD; TOWAMENCIN; 2015-1...   \n",
       "95  40.083078 -75.101117  SHELMIRE ST & CEDAR RD; ABINGTON; 2015-12-10 @...   \n",
       "96  40.276304 -75.565024  SWAMP PIKE & SANATOGA RD; NEW HANOVER; 2015-12...   \n",
       "97  40.095320 -75.193482  CHELTENHAM AVE & DELPHINE RD; SPRINGFIELD; 201...   \n",
       "98  40.151476 -75.396624  MARK LN & IVY CIR;  LOWER PROVIDENCE; Station ...   \n",
       "99  40.127611 -75.379915  HEMLOCK RD & SHIRLEY LN;  WEST NORRITON; Stati...   \n",
       "\n",
       "        zip                           title           timeStamp  \\\n",
       "0   19525.0          EMS: BACK PAINS/INJURY 2015-12-10 17:40:00   \n",
       "1   19446.0         EMS: DIABETIC EMERGENCY 2015-12-10 17:40:00   \n",
       "2   19401.0             Fire: GAS-ODOR/LEAK 2015-12-10 17:40:00   \n",
       "3   19401.0          EMS: CARDIAC EMERGENCY 2015-12-10 17:40:01   \n",
       "4       NaN                  EMS: DIZZINESS 2015-12-10 17:40:01   \n",
       "5   19446.0                EMS: HEAD INJURY 2015-12-10 17:40:01   \n",
       "6   19044.0            EMS: NAUSEA/VOMITING 2015-12-10 17:40:01   \n",
       "7   19426.0      EMS: RESPIRATORY EMERGENCY 2015-12-10 17:40:01   \n",
       "8   19438.0           EMS: SYNCOPAL EPISODE 2015-12-10 17:40:01   \n",
       "9   19462.0     Traffic: VEHICLE ACCIDENT - 2015-12-10 17:40:01   \n",
       "10      NaN     Traffic: VEHICLE ACCIDENT - 2015-12-10 17:40:01   \n",
       "11  19428.0     Traffic: VEHICLE ACCIDENT - 2015-12-10 17:40:02   \n",
       "12  19040.0     Traffic: VEHICLE ACCIDENT - 2015-12-10 17:40:02   \n",
       "13  19027.0     Traffic: VEHICLE ACCIDENT - 2015-12-10 17:40:02   \n",
       "14      NaN     Traffic: VEHICLE ACCIDENT - 2015-12-10 17:40:02   \n",
       "15  18936.0     Traffic: VEHICLE ACCIDENT - 2015-12-10 17:40:02   \n",
       "16  19446.0      EMS: RESPIRATORY EMERGENCY 2015-12-10 17:46:01   \n",
       "17  19525.0                  EMS: DIZZINESS 2015-12-10 17:47:01   \n",
       "18  19401.0           EMS: VEHICLE ACCIDENT 2015-12-10 17:47:01   \n",
       "19  18974.0     Traffic: DISABLED VEHICLE - 2015-12-10 17:47:02   \n",
       "20  19401.0     Traffic: VEHICLE ACCIDENT - 2015-12-10 17:47:02   \n",
       "21  19031.0     Traffic: DISABLED VEHICLE - 2015-12-10 17:57:02   \n",
       "22  19446.0            Fire: APPLIANCE FIRE 2015-12-10 18:02:01   \n",
       "23      NaN     Traffic: DISABLED VEHICLE - 2015-12-10 18:02:02   \n",
       "24      NaN     Traffic: VEHICLE ACCIDENT - 2015-12-10 18:02:02   \n",
       "25  19403.0           EMS: GENERAL WEAKNESS 2015-12-10 18:06:25   \n",
       "26  19422.0                EMS: HEAD INJURY 2015-12-10 18:06:25   \n",
       "27  19085.0  Fire: CARBON MONOXIDE DETECTOR 2015-12-10 18:06:25   \n",
       "28      NaN     Traffic: VEHICLE ACCIDENT - 2015-12-10 18:06:26   \n",
       "29  18974.0     Traffic: DISABLED VEHICLE - 2015-12-10 18:11:01   \n",
       "..      ...                             ...                 ...   \n",
       "70  19403.0            EMS: SUBJECT IN PAIN 2015-12-10 19:52:01   \n",
       "71  19002.0                   EMS: SEIZURES 2015-12-10 19:57:01   \n",
       "72      NaN             Fire: GAS-ODOR/LEAK 2015-12-10 20:06:01   \n",
       "73  19096.0         EMS: DIABETIC EMERGENCY 2015-12-10 20:07:01   \n",
       "74  19454.0            EMS: SUBJECT IN PAIN 2015-12-10 20:12:01   \n",
       "75  19464.0  EMS: UNKNOWN MEDICAL EMERGENCY 2015-12-10 20:12:01   \n",
       "76  18964.0                EMS: HEAD INJURY 2015-12-10 20:12:02   \n",
       "77  19002.0     Traffic: VEHICLE ACCIDENT - 2015-12-10 20:12:03   \n",
       "78  19464.0     Traffic: DISABLED VEHICLE - 2015-12-10 20:27:02   \n",
       "79  19465.0                EMS: FALL VICTIM 2015-12-10 20:31:01   \n",
       "80  19401.0                EMS: FALL VICTIM 2015-12-10 20:31:01   \n",
       "81  19004.0     Traffic: VEHICLE ACCIDENT - 2015-12-10 20:41:02   \n",
       "82  19525.0           EMS: SYNCOPAL EPISODE 2015-12-10 20:47:01   \n",
       "83  19066.0  Fire: CARBON MONOXIDE DETECTOR 2015-12-10 20:47:01   \n",
       "84  19465.0        EMS: MEDICAL ALERT ALARM 2015-12-10 20:52:02   \n",
       "85  19010.0      EMS: RESPIRATORY EMERGENCY 2015-12-10 20:52:02   \n",
       "86  19072.0            EMS: ABDOMINAL PAINS 2015-12-10 20:57:01   \n",
       "87  18041.0                Fire: FIRE ALARM 2015-12-10 21:07:01   \n",
       "88  19038.0      EMS: RESPIRATORY EMERGENCY 2015-12-10 21:12:01   \n",
       "89  19454.0       EMS: UNRESPONSIVE SUBJECT 2015-12-10 21:17:02   \n",
       "90  19464.0     Traffic: ROAD OBSTRUCTION - 2015-12-10 21:22:00   \n",
       "91  19464.0               Fire: PUMP DETAIL 2015-12-10 21:27:01   \n",
       "92  19438.0     Traffic: VEHICLE ACCIDENT - 2015-12-10 21:37:01   \n",
       "93  19046.0        Fire: FIRE INVESTIGATION 2015-12-10 21:41:00   \n",
       "94  19438.0     Traffic: VEHICLE ACCIDENT - 2015-12-10 21:47:01   \n",
       "95  19027.0     Traffic: DISABLED VEHICLE - 2015-12-10 21:52:01   \n",
       "96  19525.0     Traffic: DISABLED VEHICLE - 2015-12-10 22:01:01   \n",
       "97  19038.0     Traffic: VEHICLE ACCIDENT - 2015-12-10 22:02:01   \n",
       "98  19403.0                 EMS: CVA/STROKE 2015-12-10 22:07:02   \n",
       "99  19403.0                EMS: FALL VICTIM 2015-12-10 22:27:01   \n",
       "\n",
       "                  twp                                      addr  e   reason  \\\n",
       "0         NEW HANOVER                    REINDEER CT & DEAD END  1      EMS   \n",
       "1   HATFIELD TOWNSHIP                BRIAR PATH & WHITEMARSH LN  1      EMS   \n",
       "2          NORRISTOWN                                  HAWS AVE  1     Fire   \n",
       "3          NORRISTOWN                        AIRY ST & SWEDE ST  1      EMS   \n",
       "4    LOWER POTTSGROVE                  CHERRYWOOD CT & DEAD END  1      EMS   \n",
       "5            LANSDALE                     CANNON AVE & W 9TH ST  1      EMS   \n",
       "6             HORSHAM                  LAUREL AVE & OAKDALE AVE  1      EMS   \n",
       "7            SKIPPACK              COLLEGEVILLE RD & LYWISKI RD  1      EMS   \n",
       "8       LOWER SALFORD             MAIN ST & OLD SUMNEYTOWN PIKE  1      EMS   \n",
       "9            PLYMOUTH  BLUEROUTE  & RAMP I476 NB TO CHEMICAL RD  1  Traffic   \n",
       "10         MONTGOMERY                     RT202 PKWY & KNAPP RD  1  Traffic   \n",
       "11           PLYMOUTH                     BROOK RD & COLWELL LN  1  Traffic   \n",
       "12     UPPER MORELAND             BYBERRY AVE & S WARMINSTER RD  1  Traffic   \n",
       "13         CHELTENHAM                   OLD YORK RD & VALLEY RD  1  Traffic   \n",
       "14       UPPER MERION     SCHUYLKILL EXPY & CROTON RD UNDERPASS  1  Traffic   \n",
       "15         MONTGOMERY                   STUMP RD & WITCHWOOD DR  1  Traffic   \n",
       "16           LANSDALE               SUSQUEHANNA AVE & W MAIN ST  1      EMS   \n",
       "17        NEW HANOVER                   CHARLOTTE ST & MILES RD  1      EMS   \n",
       "18         NORRISTOWN                         PENN ST & ARCH ST  1      EMS   \n",
       "19            HORSHAM                COUNTY LINE RD & WILLOW DR  1  Traffic   \n",
       "20         NORRISTOWN                         PENN ST & ARCH ST  1  Traffic   \n",
       "21         WHITEMARSH                    CHURCH RD & REDCOAT DR  1  Traffic   \n",
       "22      UPPER GWYNEDD                    LILAC CT & PRIMROSE DR  1     Fire   \n",
       "23   LOWER PROVIDENCE             RT422  & PAWLINGS RD OVERPASS  1  Traffic   \n",
       "24       UPPER DUBLIN              SUMMIT AVE & RT309 UNDERPASS  1  Traffic   \n",
       "25   LOWER PROVIDENCE         SHANNONDELL DR & SHANNONDELL BLVD  1      EMS   \n",
       "26           WHITPAIN      PENLLYN BLUE BELL PIKE & VILLAGE CIR  1      EMS   \n",
       "27    DELAWARE COUNTY                    EDENTON PL & DURHAM DR  1     Fire   \n",
       "28       UPPER MERION     SCHUYLKILL EXPY & WEADLEY RD OVERPASS  1  Traffic   \n",
       "29            HORSHAM                COUNTY LINE RD & WILLOW DR  1  Traffic   \n",
       "..                ...                                       ... ..      ...   \n",
       "70   LOWER PROVIDENCE         SHANNONDELL DR & SHANNONDELL BLVD  1      EMS   \n",
       "71             AMBLER                  BUTLER AVE & N RIDGE AVE  1      EMS   \n",
       "72       LOWER MERION                     AVIGNON DR & DEAD END  1     Fire   \n",
       "73       LOWER MERION                     LLOYD LN & DRAYTON LN  1      EMS   \n",
       "74         MONTGOMERY                  DELMAR CT & CLAREMONT DR  1      EMS   \n",
       "75   LOWER POTTSGROVE                        HIGH ST & BROWN ST  1      EMS   \n",
       "76          FRANCONIA               COWPATH RD & MEADOW WOOD LN  1      EMS   \n",
       "77            HORSHAM                 WELSH RD & LOWER STATE RD  1  Traffic   \n",
       "78   LOWER POTTSGROVE                       HIGH ST & S PARK RD  1  Traffic   \n",
       "79     CHESTER COUNTY                   HANOVER ST & E URNER ST  1      EMS   \n",
       "80         NORRISTOWN                    NEW HOPE ST & CEDAR LN  1      EMS   \n",
       "81       LOWER MERION                  BELMONT AVE & E CITY AVE  1  Traffic   \n",
       "82        NEW HANOVER                     SWAMP PIKE & ROMIG RD  1      EMS   \n",
       "83       LOWER MERION                MEADOW LN & MONTGOMERY AVE  1     Fire   \n",
       "84     CHESTER COUNTY                     WORTH BLVD & TYSON ST  1      EMS   \n",
       "85       LOWER MERION           MONTGOMERY AVE & THORNBROOK AVE  1      EMS   \n",
       "86       LOWER MERION                 PENN VALLEY RD & MANOR RD  1      EMS   \n",
       "87      UPPER HANOVER                  BLOMMER DR & GRAVEL PIKE  1     Fire   \n",
       "88        SPRINGFIELD             STENTON AVE & E EVERGREEN AVE  1      EMS   \n",
       "89         MONTGOMERY         HILLSIDE CT & NESHAMINY FALLS CIR  1      EMS   \n",
       "90   LOWER POTTSGROVE             N PLEASANT VIEW RD & WELSH DR  1  Traffic   \n",
       "91          POTTSTOWN               CHESTNUT ST & N FRANKLIN ST  1     Fire   \n",
       "92         TOWAMENCIN                   BUSTARD RD & KRIEBEL RD  1  Traffic   \n",
       "93          ROCKLEDGE            FOX CHASE RD & LOS ANGELES AVE  1     Fire   \n",
       "94         TOWAMENCIN                BUSTARD RD & OLD MORRIS RD  1  Traffic   \n",
       "95           ABINGTON                    SHELMIRE ST & CEDAR RD  1  Traffic   \n",
       "96        NEW HANOVER                  SWAMP PIKE & SANATOGA RD  1  Traffic   \n",
       "97        SPRINGFIELD              CHELTENHAM AVE & DELPHINE RD  1  Traffic   \n",
       "98   LOWER PROVIDENCE                         MARK LN & IVY CIR  1      EMS   \n",
       "99      WEST NORRITON                   HEMLOCK RD & SHIRLEY LN  1      EMS   \n",
       "\n",
       "    Hour  Month  Day_of_Week  \n",
       "0     17     12            3  \n",
       "1     17     12            3  \n",
       "2     17     12            3  \n",
       "3     17     12            3  \n",
       "4     17     12            3  \n",
       "5     17     12            3  \n",
       "6     17     12            3  \n",
       "7     17     12            3  \n",
       "8     17     12            3  \n",
       "9     17     12            3  \n",
       "10    17     12            3  \n",
       "11    17     12            3  \n",
       "12    17     12            3  \n",
       "13    17     12            3  \n",
       "14    17     12            3  \n",
       "15    17     12            3  \n",
       "16    17     12            3  \n",
       "17    17     12            3  \n",
       "18    17     12            3  \n",
       "19    17     12            3  \n",
       "20    17     12            3  \n",
       "21    17     12            3  \n",
       "22    18     12            3  \n",
       "23    18     12            3  \n",
       "24    18     12            3  \n",
       "25    18     12            3  \n",
       "26    18     12            3  \n",
       "27    18     12            3  \n",
       "28    18     12            3  \n",
       "29    18     12            3  \n",
       "..   ...    ...          ...  \n",
       "70    19     12            3  \n",
       "71    19     12            3  \n",
       "72    20     12            3  \n",
       "73    20     12            3  \n",
       "74    20     12            3  \n",
       "75    20     12            3  \n",
       "76    20     12            3  \n",
       "77    20     12            3  \n",
       "78    20     12            3  \n",
       "79    20     12            3  \n",
       "80    20     12            3  \n",
       "81    20     12            3  \n",
       "82    20     12            3  \n",
       "83    20     12            3  \n",
       "84    20     12            3  \n",
       "85    20     12            3  \n",
       "86    20     12            3  \n",
       "87    21     12            3  \n",
       "88    21     12            3  \n",
       "89    21     12            3  \n",
       "90    21     12            3  \n",
       "91    21     12            3  \n",
       "92    21     12            3  \n",
       "93    21     12            3  \n",
       "94    21     12            3  \n",
       "95    21     12            3  \n",
       "96    22     12            3  \n",
       "97    22     12            3  \n",
       "98    22     12            3  \n",
       "99    22     12            3  \n",
       "\n",
       "[100 rows x 13 columns]"
      ]
     },
     "execution_count": 319,
     "metadata": {},
     "output_type": "execute_result"
    }
   ],
   "source": [
    "df2.head(100)"
   ]
  },
  {
   "cell_type": "markdown",
   "metadata": {
    "collapsed": false
   },
   "source": [
    "** Notice how the Day of Week is an integer 0-6. Use the .map() with this dictionary to map the actual string names to the day of the week: **\n",
    "\n",
    "    dmap = {0:'Mon',1:'Tue',2:'Wed',3:'Thu',4:'Fri',5:'Sat',6:'Sun'}"
   ]
  },
  {
   "cell_type": "code",
   "execution_count": 320,
   "metadata": {
    "collapsed": false
   },
   "outputs": [],
   "source": [
    "dmap = {0:'Mon',1:'Tue',2:'Wed',3:'Thu',4:'Fri',5:'Sat',6:'Sun'}\n",
    "day_of_week2  = lambda x: dmap[x]\n",
    "day_of_week3 = df2['Day_of_Week'].apply(day_of_week2)\n",
    "df3 = df2.assign(Day_of_Week_2= day_of_week3)"
   ]
  },
  {
   "cell_type": "code",
   "execution_count": 321,
   "metadata": {
    "collapsed": false
   },
   "outputs": [
    {
     "data": {
      "text/html": [
       "<div>\n",
       "<table border=\"1\" class=\"dataframe\">\n",
       "  <thead>\n",
       "    <tr style=\"text-align: right;\">\n",
       "      <th></th>\n",
       "      <th>lat</th>\n",
       "      <th>lng</th>\n",
       "      <th>desc</th>\n",
       "      <th>zip</th>\n",
       "      <th>title</th>\n",
       "      <th>timeStamp</th>\n",
       "      <th>twp</th>\n",
       "      <th>addr</th>\n",
       "      <th>e</th>\n",
       "      <th>reason</th>\n",
       "      <th>Hour</th>\n",
       "      <th>Month</th>\n",
       "      <th>Day_of_Week</th>\n",
       "      <th>Day_of_Week_2</th>\n",
       "    </tr>\n",
       "  </thead>\n",
       "  <tbody>\n",
       "    <tr>\n",
       "      <th>0</th>\n",
       "      <td>40.297876</td>\n",
       "      <td>-75.581294</td>\n",
       "      <td>REINDEER CT &amp; DEAD END;  NEW HANOVER; Station ...</td>\n",
       "      <td>19525.0</td>\n",
       "      <td>EMS: BACK PAINS/INJURY</td>\n",
       "      <td>2015-12-10 17:40:00</td>\n",
       "      <td>NEW HANOVER</td>\n",
       "      <td>REINDEER CT &amp; DEAD END</td>\n",
       "      <td>1</td>\n",
       "      <td>EMS</td>\n",
       "      <td>17</td>\n",
       "      <td>12</td>\n",
       "      <td>3</td>\n",
       "      <td>Thu</td>\n",
       "    </tr>\n",
       "    <tr>\n",
       "      <th>1</th>\n",
       "      <td>40.258061</td>\n",
       "      <td>-75.264680</td>\n",
       "      <td>BRIAR PATH &amp; WHITEMARSH LN;  HATFIELD TOWNSHIP...</td>\n",
       "      <td>19446.0</td>\n",
       "      <td>EMS: DIABETIC EMERGENCY</td>\n",
       "      <td>2015-12-10 17:40:00</td>\n",
       "      <td>HATFIELD TOWNSHIP</td>\n",
       "      <td>BRIAR PATH &amp; WHITEMARSH LN</td>\n",
       "      <td>1</td>\n",
       "      <td>EMS</td>\n",
       "      <td>17</td>\n",
       "      <td>12</td>\n",
       "      <td>3</td>\n",
       "      <td>Thu</td>\n",
       "    </tr>\n",
       "    <tr>\n",
       "      <th>2</th>\n",
       "      <td>40.121182</td>\n",
       "      <td>-75.351975</td>\n",
       "      <td>HAWS AVE; NORRISTOWN; 2015-12-10 @ 14:39:21-St...</td>\n",
       "      <td>19401.0</td>\n",
       "      <td>Fire: GAS-ODOR/LEAK</td>\n",
       "      <td>2015-12-10 17:40:00</td>\n",
       "      <td>NORRISTOWN</td>\n",
       "      <td>HAWS AVE</td>\n",
       "      <td>1</td>\n",
       "      <td>Fire</td>\n",
       "      <td>17</td>\n",
       "      <td>12</td>\n",
       "      <td>3</td>\n",
       "      <td>Thu</td>\n",
       "    </tr>\n",
       "    <tr>\n",
       "      <th>3</th>\n",
       "      <td>40.116153</td>\n",
       "      <td>-75.343513</td>\n",
       "      <td>AIRY ST &amp; SWEDE ST;  NORRISTOWN; Station 308A;...</td>\n",
       "      <td>19401.0</td>\n",
       "      <td>EMS: CARDIAC EMERGENCY</td>\n",
       "      <td>2015-12-10 17:40:01</td>\n",
       "      <td>NORRISTOWN</td>\n",
       "      <td>AIRY ST &amp; SWEDE ST</td>\n",
       "      <td>1</td>\n",
       "      <td>EMS</td>\n",
       "      <td>17</td>\n",
       "      <td>12</td>\n",
       "      <td>3</td>\n",
       "      <td>Thu</td>\n",
       "    </tr>\n",
       "    <tr>\n",
       "      <th>4</th>\n",
       "      <td>40.251492</td>\n",
       "      <td>-75.603350</td>\n",
       "      <td>CHERRYWOOD CT &amp; DEAD END;  LOWER POTTSGROVE; S...</td>\n",
       "      <td>NaN</td>\n",
       "      <td>EMS: DIZZINESS</td>\n",
       "      <td>2015-12-10 17:40:01</td>\n",
       "      <td>LOWER POTTSGROVE</td>\n",
       "      <td>CHERRYWOOD CT &amp; DEAD END</td>\n",
       "      <td>1</td>\n",
       "      <td>EMS</td>\n",
       "      <td>17</td>\n",
       "      <td>12</td>\n",
       "      <td>3</td>\n",
       "      <td>Thu</td>\n",
       "    </tr>\n",
       "  </tbody>\n",
       "</table>\n",
       "</div>"
      ],
      "text/plain": [
       "         lat        lng                                               desc  \\\n",
       "0  40.297876 -75.581294  REINDEER CT & DEAD END;  NEW HANOVER; Station ...   \n",
       "1  40.258061 -75.264680  BRIAR PATH & WHITEMARSH LN;  HATFIELD TOWNSHIP...   \n",
       "2  40.121182 -75.351975  HAWS AVE; NORRISTOWN; 2015-12-10 @ 14:39:21-St...   \n",
       "3  40.116153 -75.343513  AIRY ST & SWEDE ST;  NORRISTOWN; Station 308A;...   \n",
       "4  40.251492 -75.603350  CHERRYWOOD CT & DEAD END;  LOWER POTTSGROVE; S...   \n",
       "\n",
       "       zip                    title           timeStamp                twp  \\\n",
       "0  19525.0   EMS: BACK PAINS/INJURY 2015-12-10 17:40:00        NEW HANOVER   \n",
       "1  19446.0  EMS: DIABETIC EMERGENCY 2015-12-10 17:40:00  HATFIELD TOWNSHIP   \n",
       "2  19401.0      Fire: GAS-ODOR/LEAK 2015-12-10 17:40:00         NORRISTOWN   \n",
       "3  19401.0   EMS: CARDIAC EMERGENCY 2015-12-10 17:40:01         NORRISTOWN   \n",
       "4      NaN           EMS: DIZZINESS 2015-12-10 17:40:01   LOWER POTTSGROVE   \n",
       "\n",
       "                         addr  e reason  Hour  Month  Day_of_Week  \\\n",
       "0      REINDEER CT & DEAD END  1    EMS    17     12            3   \n",
       "1  BRIAR PATH & WHITEMARSH LN  1    EMS    17     12            3   \n",
       "2                    HAWS AVE  1   Fire    17     12            3   \n",
       "3          AIRY ST & SWEDE ST  1    EMS    17     12            3   \n",
       "4    CHERRYWOOD CT & DEAD END  1    EMS    17     12            3   \n",
       "\n",
       "  Day_of_Week_2  \n",
       "0           Thu  \n",
       "1           Thu  \n",
       "2           Thu  \n",
       "3           Thu  \n",
       "4           Thu  "
      ]
     },
     "execution_count": 321,
     "metadata": {},
     "output_type": "execute_result"
    }
   ],
   "source": [
    "df3.head()"
   ]
  },
  {
   "cell_type": "markdown",
   "metadata": {
    "collapsed": false
   },
   "source": [
    "** Now use seaborn to create a countplot of the Day of Week column with the hue based off of the Reason column. **"
   ]
  },
  {
   "cell_type": "code",
   "execution_count": 339,
   "metadata": {
    "collapsed": false
   },
   "outputs": [
    {
     "data": {
      "text/plain": [
       "(0.0, 8000.0)"
      ]
     },
     "execution_count": 339,
     "metadata": {},
     "output_type": "execute_result"
    },
    {
     "data": {
      "image/png": "[encoded data removed]",
      "text/plain": [
       "<matplotlib.figure.Figure at 0x25fb3290>"
      ]
     },
     "metadata": {},
     "output_type": "display_data"
    }
   ],
   "source": [
    "import matplotlib.pyplot as plt\n",
    "sns.countplot(df3['Day_of_Week_2'],hue=df3['reason'],)\n",
    "plt.legend(loc='center left', bbox_to_anchor=(1, 1))\n",
    "plt.ylim()"
   ]
  },
  {
   "cell_type": "code",
   "execution_count": null,
   "metadata": {
    "collapsed": true
   },
   "outputs": [],
   "source": []
  },
  {
   "cell_type": "markdown",
   "metadata": {},
   "source": [
    "**Now do the same for Month:**"
   ]
  },
  {
   "cell_type": "code",
   "execution_count": 342,
   "metadata": {
    "collapsed": false
   },
   "outputs": [
    {
     "data": {
      "text/plain": [
       "(0.0, 7000.0)"
      ]
     },
     "execution_count": 342,
     "metadata": {},
     "output_type": "execute_result"
    },
    {
     "data": {
      "image/png": "[encoded data removed]",
      "text/plain": [
       "<matplotlib.figure.Figure at 0x262bbe50>"
      ]
     },
     "metadata": {},
     "output_type": "display_data"
    }
   ],
   "source": [
    "import matplotlib.pyplot as plt\n",
    "sns.countplot(df3['Month'],hue=df3['reason'],)\n",
    "plt.legend(loc='center left', bbox_to_anchor=(1, 1))\n",
    "plt.ylim()"
   ]
  },
  {
   "cell_type": "code",
   "execution_count": null,
   "metadata": {
    "collapsed": false
   },
   "outputs": [],
   "source": []
  },
  {
   "cell_type": "markdown",
   "metadata": {},
   "source": [
    "**Did you notice something strange about the Plot?**\n",
    "\n",
    "_____\n",
    "\n",
    "** You should have noticed it was missing some Months, let's see if we can maybe fill in this information by plotting the information in another way, possibly a simple line plot that fills in the missing months, in order to do this, we'll need to do some work with pandas... **"
   ]
  },
  {
   "cell_type": "markdown",
   "metadata": {},
   "source": [
    "** Now create a gropuby object called byMonth, where you group the DataFrame by the month column and use the count() method for aggregation. Use the head() method on this returned DataFrame. **"
   ]
  },
  {
   "cell_type": "code",
   "execution_count": 345,
   "metadata": {
    "collapsed": false
   },
   "outputs": [
    {
     "data": {
      "text/html": [
       "<div>\n",
       "<table border=\"1\" class=\"dataframe\">\n",
       "  <thead>\n",
       "    <tr style=\"text-align: right;\">\n",
       "      <th></th>\n",
       "      <th>lat</th>\n",
       "      <th>lng</th>\n",
       "      <th>desc</th>\n",
       "      <th>zip</th>\n",
       "      <th>title</th>\n",
       "      <th>timeStamp</th>\n",
       "      <th>twp</th>\n",
       "      <th>addr</th>\n",
       "      <th>e</th>\n",
       "      <th>reason</th>\n",
       "      <th>Hour</th>\n",
       "      <th>Month</th>\n",
       "      <th>Day_of_Week</th>\n",
       "      <th>Day_of_Week_2</th>\n",
       "    </tr>\n",
       "  </thead>\n",
       "  <tbody>\n",
       "    <tr>\n",
       "      <th>0</th>\n",
       "      <td>40.297876</td>\n",
       "      <td>-75.581294</td>\n",
       "      <td>REINDEER CT &amp; DEAD END;  NEW HANOVER; Station ...</td>\n",
       "      <td>19525.0</td>\n",
       "      <td>EMS: BACK PAINS/INJURY</td>\n",
       "      <td>2015-12-10 17:40:00</td>\n",
       "      <td>NEW HANOVER</td>\n",
       "      <td>REINDEER CT &amp; DEAD END</td>\n",
       "      <td>1</td>\n",
       "      <td>EMS</td>\n",
       "      <td>17</td>\n",
       "      <td>12</td>\n",
       "      <td>3</td>\n",
       "      <td>Thu</td>\n",
       "    </tr>\n",
       "  </tbody>\n",
       "</table>\n",
       "</div>"
      ],
      "text/plain": [
       "         lat        lng                                               desc  \\\n",
       "0  40.297876 -75.581294  REINDEER CT & DEAD END;  NEW HANOVER; Station ...   \n",
       "\n",
       "       zip                   title           timeStamp          twp  \\\n",
       "0  19525.0  EMS: BACK PAINS/INJURY 2015-12-10 17:40:00  NEW HANOVER   \n",
       "\n",
       "                     addr  e reason  Hour  Month  Day_of_Week Day_of_Week_2  \n",
       "0  REINDEER CT & DEAD END  1    EMS    17     12            3           Thu  "
      ]
     },
     "execution_count": 345,
     "metadata": {},
     "output_type": "execute_result"
    }
   ],
   "source": [
    "df3.head(1)"
   ]
  },
  {
   "cell_type": "code",
   "execution_count": 395,
   "metadata": {
    "collapsed": false
   },
   "outputs": [],
   "source": [
    "byMonth=df3.groupby(by=df3['Month']).count()"
   ]
  },
  {
   "cell_type": "code",
   "execution_count": 397,
   "metadata": {
    "collapsed": false
   },
   "outputs": [
    {
     "data": {
      "text/html": [
       "<div>\n",
       "<table border=\"1\" class=\"dataframe\">\n",
       "  <thead>\n",
       "    <tr style=\"text-align: right;\">\n",
       "      <th></th>\n",
       "      <th>lat</th>\n",
       "      <th>lng</th>\n",
       "      <th>desc</th>\n",
       "      <th>zip</th>\n",
       "      <th>title</th>\n",
       "      <th>timeStamp</th>\n",
       "      <th>twp</th>\n",
       "      <th>addr</th>\n",
       "      <th>e</th>\n",
       "      <th>reason</th>\n",
       "      <th>Hour</th>\n",
       "      <th>Day_of_Week</th>\n",
       "      <th>Day_of_Week_2</th>\n",
       "    </tr>\n",
       "    <tr>\n",
       "      <th>Month</th>\n",
       "      <th></th>\n",
       "      <th></th>\n",
       "      <th></th>\n",
       "      <th></th>\n",
       "      <th></th>\n",
       "      <th></th>\n",
       "      <th></th>\n",
       "      <th></th>\n",
       "      <th></th>\n",
       "      <th></th>\n",
       "      <th></th>\n",
       "      <th></th>\n",
       "      <th></th>\n",
       "    </tr>\n",
       "  </thead>\n",
       "  <tbody>\n",
       "    <tr>\n",
       "      <th>1</th>\n",
       "      <td>13205</td>\n",
       "      <td>13205</td>\n",
       "      <td>13205</td>\n",
       "      <td>11527</td>\n",
       "      <td>13205</td>\n",
       "      <td>13205</td>\n",
       "      <td>13203</td>\n",
       "      <td>13096</td>\n",
       "      <td>13205</td>\n",
       "      <td>13205</td>\n",
       "      <td>13205</td>\n",
       "      <td>13205</td>\n",
       "      <td>13205</td>\n",
       "    </tr>\n",
       "    <tr>\n",
       "      <th>2</th>\n",
       "      <td>11467</td>\n",
       "      <td>11467</td>\n",
       "      <td>11467</td>\n",
       "      <td>9930</td>\n",
       "      <td>11467</td>\n",
       "      <td>11467</td>\n",
       "      <td>11465</td>\n",
       "      <td>11396</td>\n",
       "      <td>11467</td>\n",
       "      <td>11467</td>\n",
       "      <td>11467</td>\n",
       "      <td>11467</td>\n",
       "      <td>11467</td>\n",
       "    </tr>\n",
       "    <tr>\n",
       "      <th>3</th>\n",
       "      <td>11101</td>\n",
       "      <td>11101</td>\n",
       "      <td>11101</td>\n",
       "      <td>9755</td>\n",
       "      <td>11101</td>\n",
       "      <td>11101</td>\n",
       "      <td>11092</td>\n",
       "      <td>11059</td>\n",
       "      <td>11101</td>\n",
       "      <td>11101</td>\n",
       "      <td>11101</td>\n",
       "      <td>11101</td>\n",
       "      <td>11101</td>\n",
       "    </tr>\n",
       "    <tr>\n",
       "      <th>4</th>\n",
       "      <td>11326</td>\n",
       "      <td>11326</td>\n",
       "      <td>11326</td>\n",
       "      <td>9895</td>\n",
       "      <td>11326</td>\n",
       "      <td>11326</td>\n",
       "      <td>11323</td>\n",
       "      <td>11283</td>\n",
       "      <td>11326</td>\n",
       "      <td>11326</td>\n",
       "      <td>11326</td>\n",
       "      <td>11326</td>\n",
       "      <td>11326</td>\n",
       "    </tr>\n",
       "    <tr>\n",
       "      <th>5</th>\n",
       "      <td>11423</td>\n",
       "      <td>11423</td>\n",
       "      <td>11423</td>\n",
       "      <td>9946</td>\n",
       "      <td>11423</td>\n",
       "      <td>11423</td>\n",
       "      <td>11420</td>\n",
       "      <td>11378</td>\n",
       "      <td>11423</td>\n",
       "      <td>11423</td>\n",
       "      <td>11423</td>\n",
       "      <td>11423</td>\n",
       "      <td>11423</td>\n",
       "    </tr>\n",
       "  </tbody>\n",
       "</table>\n",
       "</div>"
      ],
      "text/plain": [
       "         lat    lng   desc    zip  title  timeStamp    twp   addr      e  \\\n",
       "Month                                                                      \n",
       "1      13205  13205  13205  11527  13205      13205  13203  13096  13205   \n",
       "2      11467  11467  11467   9930  11467      11467  11465  11396  11467   \n",
       "3      11101  11101  11101   9755  11101      11101  11092  11059  11101   \n",
       "4      11326  11326  11326   9895  11326      11326  11323  11283  11326   \n",
       "5      11423  11423  11423   9946  11423      11423  11420  11378  11423   \n",
       "\n",
       "       reason   Hour  Day_of_Week  Day_of_Week_2  \n",
       "Month                                             \n",
       "1       13205  13205        13205          13205  \n",
       "2       11467  11467        11467          11467  \n",
       "3       11101  11101        11101          11101  \n",
       "4       11326  11326        11326          11326  \n",
       "5       11423  11423        11423          11423  "
      ]
     },
     "execution_count": 397,
     "metadata": {},
     "output_type": "execute_result"
    }
   ],
   "source": [
    "byMonth.head()"
   ]
  },
  {
   "cell_type": "code",
   "execution_count": 169,
   "metadata": {
    "collapsed": false
   },
   "outputs": [
    {
     "data": {
      "text/html": [
       "<div>\n",
       "<table border=\"1\" class=\"dataframe\">\n",
       "  <thead>\n",
       "    <tr style=\"text-align: right;\">\n",
       "      <th></th>\n",
       "      <th>lat</th>\n",
       "      <th>lng</th>\n",
       "      <th>desc</th>\n",
       "      <th>zip</th>\n",
       "      <th>title</th>\n",
       "      <th>timeStamp</th>\n",
       "      <th>twp</th>\n",
       "      <th>addr</th>\n",
       "      <th>e</th>\n",
       "      <th>Reason</th>\n",
       "      <th>Hour</th>\n",
       "      <th>Day of Week</th>\n",
       "    </tr>\n",
       "    <tr>\n",
       "      <th>Month</th>\n",
       "      <th></th>\n",
       "      <th></th>\n",
       "      <th></th>\n",
       "      <th></th>\n",
       "      <th></th>\n",
       "      <th></th>\n",
       "      <th></th>\n",
       "      <th></th>\n",
       "      <th></th>\n",
       "      <th></th>\n",
       "      <th></th>\n",
       "      <th></th>\n",
       "    </tr>\n",
       "  </thead>\n",
       "  <tbody>\n",
       "    <tr>\n",
       "      <th>1</th>\n",
       "      <td>13205</td>\n",
       "      <td>13205</td>\n",
       "      <td>13205</td>\n",
       "      <td>11527</td>\n",
       "      <td>13205</td>\n",
       "      <td>13205</td>\n",
       "      <td>13203</td>\n",
       "      <td>13096</td>\n",
       "      <td>13205</td>\n",
       "      <td>13205</td>\n",
       "      <td>13205</td>\n",
       "      <td>13205</td>\n",
       "    </tr>\n",
       "    <tr>\n",
       "      <th>2</th>\n",
       "      <td>11467</td>\n",
       "      <td>11467</td>\n",
       "      <td>11467</td>\n",
       "      <td>9930</td>\n",
       "      <td>11467</td>\n",
       "      <td>11467</td>\n",
       "      <td>11465</td>\n",
       "      <td>11396</td>\n",
       "      <td>11467</td>\n",
       "      <td>11467</td>\n",
       "      <td>11467</td>\n",
       "      <td>11467</td>\n",
       "    </tr>\n",
       "    <tr>\n",
       "      <th>3</th>\n",
       "      <td>11101</td>\n",
       "      <td>11101</td>\n",
       "      <td>11101</td>\n",
       "      <td>9755</td>\n",
       "      <td>11101</td>\n",
       "      <td>11101</td>\n",
       "      <td>11092</td>\n",
       "      <td>11059</td>\n",
       "      <td>11101</td>\n",
       "      <td>11101</td>\n",
       "      <td>11101</td>\n",
       "      <td>11101</td>\n",
       "    </tr>\n",
       "    <tr>\n",
       "      <th>4</th>\n",
       "      <td>11326</td>\n",
       "      <td>11326</td>\n",
       "      <td>11326</td>\n",
       "      <td>9895</td>\n",
       "      <td>11326</td>\n",
       "      <td>11326</td>\n",
       "      <td>11323</td>\n",
       "      <td>11283</td>\n",
       "      <td>11326</td>\n",
       "      <td>11326</td>\n",
       "      <td>11326</td>\n",
       "      <td>11326</td>\n",
       "    </tr>\n",
       "    <tr>\n",
       "      <th>5</th>\n",
       "      <td>11423</td>\n",
       "      <td>11423</td>\n",
       "      <td>11423</td>\n",
       "      <td>9946</td>\n",
       "      <td>11423</td>\n",
       "      <td>11423</td>\n",
       "      <td>11420</td>\n",
       "      <td>11378</td>\n",
       "      <td>11423</td>\n",
       "      <td>11423</td>\n",
       "      <td>11423</td>\n",
       "      <td>11423</td>\n",
       "    </tr>\n",
       "  </tbody>\n",
       "</table>\n",
       "</div>"
      ],
      "text/plain": [
       "         lat    lng   desc    zip  title  timeStamp    twp   addr      e  \\\n",
       "Month                                                                      \n",
       "1      13205  13205  13205  11527  13205      13205  13203  13096  13205   \n",
       "2      11467  11467  11467   9930  11467      11467  11465  11396  11467   \n",
       "3      11101  11101  11101   9755  11101      11101  11092  11059  11101   \n",
       "4      11326  11326  11326   9895  11326      11326  11323  11283  11326   \n",
       "5      11423  11423  11423   9946  11423      11423  11420  11378  11423   \n",
       "\n",
       "       Reason   Hour  Day of Week  \n",
       "Month                              \n",
       "1       13205  13205        13205  \n",
       "2       11467  11467        11467  \n",
       "3       11101  11101        11101  \n",
       "4       11326  11326        11326  \n",
       "5       11423  11423        11423  "
      ]
     },
     "execution_count": 169,
     "metadata": {},
     "output_type": "execute_result"
    }
   ],
   "source": []
  },
  {
   "cell_type": "markdown",
   "metadata": {},
   "source": [
    "** Now create a simple plot off of the dataframe indicating the count of calls per month. **"
   ]
  },
  {
   "cell_type": "code",
   "execution_count": 368,
   "metadata": {
    "collapsed": false
   },
   "outputs": [
    {
     "data": {
      "text/plain": [
       "<matplotlib.text.Text at 0x28002d30>"
      ]
     },
     "execution_count": 368,
     "metadata": {},
     "output_type": "execute_result"
    },
    {
     "data": {
      "image/png": "[encoded data removed]",
      "text/plain": [
       "<matplotlib.figure.Figure at 0x27f75c90>"
      ]
     },
     "metadata": {},
     "output_type": "display_data"
    }
   ],
   "source": [
    "plt.plot(byMonth['lat'])\n",
    "plt.xlabel('Month')"
   ]
  },
  {
   "cell_type": "code",
   "execution_count": 362,
   "metadata": {
    "collapsed": false
   },
   "outputs": [
    {
     "data": {
      "text/html": [
       "<div>\n",
       "<table border=\"1\" class=\"dataframe\">\n",
       "  <thead>\n",
       "    <tr style=\"text-align: right;\">\n",
       "      <th></th>\n",
       "      <th>lat</th>\n",
       "      <th>lng</th>\n",
       "      <th>desc</th>\n",
       "      <th>zip</th>\n",
       "      <th>title</th>\n",
       "      <th>timeStamp</th>\n",
       "      <th>twp</th>\n",
       "      <th>addr</th>\n",
       "      <th>e</th>\n",
       "      <th>reason</th>\n",
       "      <th>Hour</th>\n",
       "      <th>Day_of_Week</th>\n",
       "      <th>Day_of_Week_2</th>\n",
       "    </tr>\n",
       "    <tr>\n",
       "      <th>Month</th>\n",
       "      <th></th>\n",
       "      <th></th>\n",
       "      <th></th>\n",
       "      <th></th>\n",
       "      <th></th>\n",
       "      <th></th>\n",
       "      <th></th>\n",
       "      <th></th>\n",
       "      <th></th>\n",
       "      <th></th>\n",
       "      <th></th>\n",
       "      <th></th>\n",
       "      <th></th>\n",
       "    </tr>\n",
       "  </thead>\n",
       "  <tbody>\n",
       "    <tr>\n",
       "      <th>1</th>\n",
       "      <td>13205</td>\n",
       "      <td>13205</td>\n",
       "      <td>13205</td>\n",
       "      <td>11527</td>\n",
       "      <td>13205</td>\n",
       "      <td>13205</td>\n",
       "      <td>13203</td>\n",
       "      <td>13096</td>\n",
       "      <td>13205</td>\n",
       "      <td>13205</td>\n",
       "      <td>13205</td>\n",
       "      <td>13205</td>\n",
       "      <td>13205</td>\n",
       "    </tr>\n",
       "    <tr>\n",
       "      <th>2</th>\n",
       "      <td>11467</td>\n",
       "      <td>11467</td>\n",
       "      <td>11467</td>\n",
       "      <td>9930</td>\n",
       "      <td>11467</td>\n",
       "      <td>11467</td>\n",
       "      <td>11465</td>\n",
       "      <td>11396</td>\n",
       "      <td>11467</td>\n",
       "      <td>11467</td>\n",
       "      <td>11467</td>\n",
       "      <td>11467</td>\n",
       "      <td>11467</td>\n",
       "    </tr>\n",
       "    <tr>\n",
       "      <th>3</th>\n",
       "      <td>11101</td>\n",
       "      <td>11101</td>\n",
       "      <td>11101</td>\n",
       "      <td>9755</td>\n",
       "      <td>11101</td>\n",
       "      <td>11101</td>\n",
       "      <td>11092</td>\n",
       "      <td>11059</td>\n",
       "      <td>11101</td>\n",
       "      <td>11101</td>\n",
       "      <td>11101</td>\n",
       "      <td>11101</td>\n",
       "      <td>11101</td>\n",
       "    </tr>\n",
       "    <tr>\n",
       "      <th>4</th>\n",
       "      <td>11326</td>\n",
       "      <td>11326</td>\n",
       "      <td>11326</td>\n",
       "      <td>9895</td>\n",
       "      <td>11326</td>\n",
       "      <td>11326</td>\n",
       "      <td>11323</td>\n",
       "      <td>11283</td>\n",
       "      <td>11326</td>\n",
       "      <td>11326</td>\n",
       "      <td>11326</td>\n",
       "      <td>11326</td>\n",
       "      <td>11326</td>\n",
       "    </tr>\n",
       "    <tr>\n",
       "      <th>5</th>\n",
       "      <td>11423</td>\n",
       "      <td>11423</td>\n",
       "      <td>11423</td>\n",
       "      <td>9946</td>\n",
       "      <td>11423</td>\n",
       "      <td>11423</td>\n",
       "      <td>11420</td>\n",
       "      <td>11378</td>\n",
       "      <td>11423</td>\n",
       "      <td>11423</td>\n",
       "      <td>11423</td>\n",
       "      <td>11423</td>\n",
       "      <td>11423</td>\n",
       "    </tr>\n",
       "  </tbody>\n",
       "</table>\n",
       "</div>"
      ],
      "text/plain": [
       "         lat    lng   desc    zip  title  timeStamp    twp   addr      e  \\\n",
       "Month                                                                      \n",
       "1      13205  13205  13205  11527  13205      13205  13203  13096  13205   \n",
       "2      11467  11467  11467   9930  11467      11467  11465  11396  11467   \n",
       "3      11101  11101  11101   9755  11101      11101  11092  11059  11101   \n",
       "4      11326  11326  11326   9895  11326      11326  11323  11283  11326   \n",
       "5      11423  11423  11423   9946  11423      11423  11420  11378  11423   \n",
       "\n",
       "       reason   Hour  Day_of_Week  Day_of_Week_2  \n",
       "Month                                             \n",
       "1       13205  13205        13205          13205  \n",
       "2       11467  11467        11467          11467  \n",
       "3       11101  11101        11101          11101  \n",
       "4       11326  11326        11326          11326  \n",
       "5       11423  11423        11423          11423  "
      ]
     },
     "execution_count": 362,
     "metadata": {},
     "output_type": "execute_result"
    }
   ],
   "source": [
    "plt.plot(byMonth['Month'])"
   ]
  },
  {
   "cell_type": "code",
   "execution_count": 175,
   "metadata": {
    "collapsed": false
   },
   "outputs": [
    {
     "data": {
      "text/plain": [
       "<matplotlib.axes._subplots.AxesSubplot at 0x133a3c080>"
      ]
     },
     "execution_count": 175,
     "metadata": {},
     "output_type": "execute_result"
    },
    {
     "data": {
      "image/png": "[encoded data removed]",
      "text/plain": [
       "<matplotlib.figure.Figure at 0x133a19390>"
      ]
     },
     "metadata": {},
     "output_type": "display_data"
    }
   ],
   "source": []
  },
  {
   "cell_type": "markdown",
   "metadata": {},
   "source": [
    "** Now see if you can use seaborn's lmplot() to create a linear fit on the number of calls per month. Keep in mind you may need to reset the index to a column. **"
   ]
  },
  {
   "cell_type": "code",
   "execution_count": 433,
   "metadata": {
    "collapsed": false
   },
   "outputs": [
    {
     "data": {
      "text/plain": [
       "<seaborn.axisgrid.FacetGrid at 0x2790cc50>"
      ]
     },
     "execution_count": 433,
     "metadata": {},
     "output_type": "execute_result"
    },
    {
     "data": {
      "image/png": "[encoded data removed]",
      "text/plain": [
       "<matplotlib.figure.Figure at 0x2786b730>"
      ]
     },
     "metadata": {},
     "output_type": "display_data"
    }
   ],
   "source": [
    "byMonth.head()\n",
    "#byMonth1=byMonth.reset_index(inplace=True)\n",
    "byMonth1=byMonth.reset_index(drop=True)\n",
    "#byMonth1.head()\n",
    "#import seaborn as sns; sns.set(color_codes=True)\n",
    "sns.lmplot(x=\"Month\", y=\"twp\", data=byMonth)\n",
    "\n"
   ]
  },
  {
   "cell_type": "code",
   "execution_count": 422,
   "metadata": {
    "collapsed": false
   },
   "outputs": [
    {
     "data": {
      "text/html": [
       "<div>\n",
       "<table border=\"1\" class=\"dataframe\">\n",
       "  <thead>\n",
       "    <tr style=\"text-align: right;\">\n",
       "      <th></th>\n",
       "      <th>level_0</th>\n",
       "      <th>index</th>\n",
       "      <th>Month</th>\n",
       "      <th>lat</th>\n",
       "      <th>lng</th>\n",
       "      <th>desc</th>\n",
       "      <th>zip</th>\n",
       "      <th>title</th>\n",
       "      <th>timeStamp</th>\n",
       "      <th>twp</th>\n",
       "      <th>addr</th>\n",
       "      <th>e</th>\n",
       "      <th>reason</th>\n",
       "      <th>Hour</th>\n",
       "      <th>Day_of_Week</th>\n",
       "      <th>Day_of_Week_2</th>\n",
       "    </tr>\n",
       "  </thead>\n",
       "  <tbody>\n",
       "    <tr>\n",
       "      <th>0</th>\n",
       "      <td>0</td>\n",
       "      <td>0</td>\n",
       "      <td>1</td>\n",
       "      <td>13205</td>\n",
       "      <td>13205</td>\n",
       "      <td>13205</td>\n",
       "      <td>11527</td>\n",
       "      <td>13205</td>\n",
       "      <td>13205</td>\n",
       "      <td>13203</td>\n",
       "      <td>13096</td>\n",
       "      <td>13205</td>\n",
       "      <td>13205</td>\n",
       "      <td>13205</td>\n",
       "      <td>13205</td>\n",
       "      <td>13205</td>\n",
       "    </tr>\n",
       "    <tr>\n",
       "      <th>1</th>\n",
       "      <td>1</td>\n",
       "      <td>1</td>\n",
       "      <td>2</td>\n",
       "      <td>11467</td>\n",
       "      <td>11467</td>\n",
       "      <td>11467</td>\n",
       "      <td>9930</td>\n",
       "      <td>11467</td>\n",
       "      <td>11467</td>\n",
       "      <td>11465</td>\n",
       "      <td>11396</td>\n",
       "      <td>11467</td>\n",
       "      <td>11467</td>\n",
       "      <td>11467</td>\n",
       "      <td>11467</td>\n",
       "      <td>11467</td>\n",
       "    </tr>\n",
       "    <tr>\n",
       "      <th>2</th>\n",
       "      <td>2</td>\n",
       "      <td>2</td>\n",
       "      <td>3</td>\n",
       "      <td>11101</td>\n",
       "      <td>11101</td>\n",
       "      <td>11101</td>\n",
       "      <td>9755</td>\n",
       "      <td>11101</td>\n",
       "      <td>11101</td>\n",
       "      <td>11092</td>\n",
       "      <td>11059</td>\n",
       "      <td>11101</td>\n",
       "      <td>11101</td>\n",
       "      <td>11101</td>\n",
       "      <td>11101</td>\n",
       "      <td>11101</td>\n",
       "    </tr>\n",
       "    <tr>\n",
       "      <th>3</th>\n",
       "      <td>3</td>\n",
       "      <td>3</td>\n",
       "      <td>4</td>\n",
       "      <td>11326</td>\n",
       "      <td>11326</td>\n",
       "      <td>11326</td>\n",
       "      <td>9895</td>\n",
       "      <td>11326</td>\n",
       "      <td>11326</td>\n",
       "      <td>11323</td>\n",
       "      <td>11283</td>\n",
       "      <td>11326</td>\n",
       "      <td>11326</td>\n",
       "      <td>11326</td>\n",
       "      <td>11326</td>\n",
       "      <td>11326</td>\n",
       "    </tr>\n",
       "    <tr>\n",
       "      <th>4</th>\n",
       "      <td>4</td>\n",
       "      <td>4</td>\n",
       "      <td>5</td>\n",
       "      <td>11423</td>\n",
       "      <td>11423</td>\n",
       "      <td>11423</td>\n",
       "      <td>9946</td>\n",
       "      <td>11423</td>\n",
       "      <td>11423</td>\n",
       "      <td>11420</td>\n",
       "      <td>11378</td>\n",
       "      <td>11423</td>\n",
       "      <td>11423</td>\n",
       "      <td>11423</td>\n",
       "      <td>11423</td>\n",
       "      <td>11423</td>\n",
       "    </tr>\n",
       "  </tbody>\n",
       "</table>\n",
       "</div>"
      ],
      "text/plain": [
       "   level_0  index  Month    lat    lng   desc    zip  title  timeStamp    twp  \\\n",
       "0        0      0      1  13205  13205  13205  11527  13205      13205  13203   \n",
       "1        1      1      2  11467  11467  11467   9930  11467      11467  11465   \n",
       "2        2      2      3  11101  11101  11101   9755  11101      11101  11092   \n",
       "3        3      3      4  11326  11326  11326   9895  11326      11326  11323   \n",
       "4        4      4      5  11423  11423  11423   9946  11423      11423  11420   \n",
       "\n",
       "    addr      e  reason   Hour  Day_of_Week  Day_of_Week_2  \n",
       "0  13096  13205   13205  13205        13205          13205  \n",
       "1  11396  11467   11467  11467        11467          11467  \n",
       "2  11059  11101   11101  11101        11101          11101  \n",
       "3  11283  11326   11326  11326        11326          11326  \n",
       "4  11378  11423   11423  11423        11423          11423  "
      ]
     },
     "execution_count": 422,
     "metadata": {},
     "output_type": "execute_result"
    }
   ],
   "source": [
    "byMonth1.head()"
   ]
  },
  {
   "cell_type": "code",
   "execution_count": 187,
   "metadata": {
    "collapsed": false
   },
   "outputs": [
    {
     "data": {
      "text/plain": [
       "<seaborn.axisgrid.FacetGrid at 0x1342acd30>"
      ]
     },
     "execution_count": 187,
     "metadata": {},
     "output_type": "execute_result"
    },
    {
     "data": {
      "image/png": "[encoded data removed]",
      "text/plain": [
       "<matplotlib.figure.Figure at 0x1342ac128>"
      ]
     },
     "metadata": {},
     "output_type": "display_data"
    }
   ],
   "source": []
  },
  {
   "cell_type": "markdown",
   "metadata": {},
   "source": [
    "**Create a new column called 'Date' that contains the date from the timeStamp column. You'll need to use apply along with the .date() method. ** "
   ]
  },
  {
   "cell_type": "code",
   "execution_count": 500,
   "metadata": {
    "collapsed": false
   },
   "outputs": [],
   "source": [
    "date  = lambda x: x.date()\n",
    "date1 = df3['timeStamp'].apply(date)\n",
    "df2 = df3.assign(Date= date1)"
   ]
  },
  {
   "cell_type": "code",
   "execution_count": 501,
   "metadata": {
    "collapsed": false
   },
   "outputs": [
    {
     "data": {
      "text/html": [
       "<div>\n",
       "<table border=\"1\" class=\"dataframe\">\n",
       "  <thead>\n",
       "    <tr style=\"text-align: right;\">\n",
       "      <th></th>\n",
       "      <th>lat</th>\n",
       "      <th>lng</th>\n",
       "      <th>desc</th>\n",
       "      <th>zip</th>\n",
       "      <th>title</th>\n",
       "      <th>timeStamp</th>\n",
       "      <th>twp</th>\n",
       "      <th>addr</th>\n",
       "      <th>e</th>\n",
       "      <th>reason</th>\n",
       "      <th>Hour</th>\n",
       "      <th>Month</th>\n",
       "      <th>Day_of_Week</th>\n",
       "      <th>Day_of_Week_2</th>\n",
       "      <th>Date</th>\n",
       "    </tr>\n",
       "  </thead>\n",
       "  <tbody>\n",
       "    <tr>\n",
       "      <th>0</th>\n",
       "      <td>40.297876</td>\n",
       "      <td>-75.581294</td>\n",
       "      <td>REINDEER CT &amp; DEAD END;  NEW HANOVER; Station ...</td>\n",
       "      <td>19525.0</td>\n",
       "      <td>EMS: BACK PAINS/INJURY</td>\n",
       "      <td>2015-12-10 17:40:00</td>\n",
       "      <td>NEW HANOVER</td>\n",
       "      <td>REINDEER CT &amp; DEAD END</td>\n",
       "      <td>1</td>\n",
       "      <td>EMS</td>\n",
       "      <td>17</td>\n",
       "      <td>12</td>\n",
       "      <td>3</td>\n",
       "      <td>Thu</td>\n",
       "      <td>2015-12-10</td>\n",
       "    </tr>\n",
       "  </tbody>\n",
       "</table>\n",
       "</div>"
      ],
      "text/plain": [
       "         lat        lng                                               desc  \\\n",
       "0  40.297876 -75.581294  REINDEER CT & DEAD END;  NEW HANOVER; Station ...   \n",
       "\n",
       "       zip                   title           timeStamp          twp  \\\n",
       "0  19525.0  EMS: BACK PAINS/INJURY 2015-12-10 17:40:00  NEW HANOVER   \n",
       "\n",
       "                     addr  e reason  Hour  Month  Day_of_Week Day_of_Week_2  \\\n",
       "0  REINDEER CT & DEAD END  1    EMS    17     12            3           Thu   \n",
       "\n",
       "         Date  \n",
       "0  2015-12-10  "
      ]
     },
     "execution_count": 501,
     "metadata": {},
     "output_type": "execute_result"
    }
   ],
   "source": [
    "df2.head(1)"
   ]
  },
  {
   "cell_type": "markdown",
   "metadata": {},
   "source": [
    "** Now groupby this Date column with the count() aggregate and create a plot of counts of 911 calls.**"
   ]
  },
  {
   "cell_type": "code",
   "execution_count": 502,
   "metadata": {
    "collapsed": false
   },
   "outputs": [],
   "source": [
    "byDate=df2.groupby(by=df2['Date']).count()\n",
    "#byDate1=byDate.reset_index(inplace=True)\n",
    "#byDate1=byDate.reset_index(drop=True)"
   ]
  },
  {
   "cell_type": "code",
   "execution_count": 504,
   "metadata": {
    "collapsed": false
   },
   "outputs": [
    {
     "data": {
      "text/html": [
       "<div>\n",
       "<table border=\"1\" class=\"dataframe\">\n",
       "  <thead>\n",
       "    <tr style=\"text-align: right;\">\n",
       "      <th></th>\n",
       "      <th>lat</th>\n",
       "      <th>lng</th>\n",
       "      <th>desc</th>\n",
       "      <th>zip</th>\n",
       "      <th>title</th>\n",
       "      <th>timeStamp</th>\n",
       "      <th>twp</th>\n",
       "      <th>addr</th>\n",
       "      <th>e</th>\n",
       "      <th>reason</th>\n",
       "      <th>Hour</th>\n",
       "      <th>Month</th>\n",
       "      <th>Day_of_Week</th>\n",
       "      <th>Day_of_Week_2</th>\n",
       "      <th>Date</th>\n",
       "    </tr>\n",
       "    <tr>\n",
       "      <th>Date</th>\n",
       "      <th></th>\n",
       "      <th></th>\n",
       "      <th></th>\n",
       "      <th></th>\n",
       "      <th></th>\n",
       "      <th></th>\n",
       "      <th></th>\n",
       "      <th></th>\n",
       "      <th></th>\n",
       "      <th></th>\n",
       "      <th></th>\n",
       "      <th></th>\n",
       "      <th></th>\n",
       "      <th></th>\n",
       "      <th></th>\n",
       "    </tr>\n",
       "  </thead>\n",
       "  <tbody>\n",
       "    <tr>\n",
       "      <th>2015-12-10</th>\n",
       "      <td>115</td>\n",
       "      <td>115</td>\n",
       "      <td>115</td>\n",
       "      <td>100</td>\n",
       "      <td>115</td>\n",
       "      <td>115</td>\n",
       "      <td>115</td>\n",
       "      <td>113</td>\n",
       "      <td>115</td>\n",
       "      <td>115</td>\n",
       "      <td>115</td>\n",
       "      <td>115</td>\n",
       "      <td>115</td>\n",
       "      <td>115</td>\n",
       "      <td>115</td>\n",
       "    </tr>\n",
       "  </tbody>\n",
       "</table>\n",
       "</div>"
      ],
      "text/plain": [
       "            lat  lng  desc  zip  title  timeStamp  twp  addr    e  reason  \\\n",
       "Date                                                                        \n",
       "2015-12-10  115  115   115  100    115        115  115   113  115     115   \n",
       "\n",
       "            Hour  Month  Day_of_Week  Day_of_Week_2  Date  \n",
       "Date                                                       \n",
       "2015-12-10   115    115          115            115   115  "
      ]
     },
     "execution_count": 504,
     "metadata": {},
     "output_type": "execute_result"
    }
   ],
   "source": [
    "byDate.head(1)"
   ]
  },
  {
   "cell_type": "code",
   "execution_count": 512,
   "metadata": {
    "collapsed": false
   },
   "outputs": [
    {
     "data": {
      "text/plain": [
       "<matplotlib.text.Text at 0x26219ef0>"
      ]
     },
     "execution_count": 512,
     "metadata": {},
     "output_type": "execute_result"
    },
    {
     "data": {
      "image/png": "[encoded data removed]",
      "text/plain": [
       "<matplotlib.figure.Figure at 0x2905f1b0>"
      ]
     },
     "metadata": {},
     "output_type": "display_data"
    }
   ],
   "source": [
    "plt.plot(byDate['lat'])\n",
    "plt.xlabel('Date')\n",
    "#sns.box(y=\"Date\", x=\"lat\", data=byDate1)"
   ]
  },
  {
   "cell_type": "code",
   "execution_count": 197,
   "metadata": {
    "collapsed": false
   },
   "outputs": [
    {
     "data": {
      "image/png": "[encoded data removed]",
      "text/plain": [
       "<matplotlib.figure.Figure at 0x130419be0>"
      ]
     },
     "metadata": {},
     "output_type": "display_data"
    }
   ],
   "source": []
  },
  {
   "cell_type": "markdown",
   "metadata": {},
   "source": [
    "** Now recreate this plot but create 3 separate plots with each plot representing a Reason for the 911 call**"
   ]
  },
  {
   "cell_type": "code",
   "execution_count": 514,
   "metadata": {
    "collapsed": false
   },
   "outputs": [
    {
     "data": {
      "text/plain": [
       "<matplotlib.text.Text at 0x29533fb0>"
      ]
     },
     "execution_count": 514,
     "metadata": {},
     "output_type": "execute_result"
    },
    {
     "data": {
      "image/png": "[encoded data removed]",
      "text/plain": [
       "<matplotlib.figure.Figure at 0x2965c930>"
      ]
     },
     "metadata": {},
     "output_type": "display_data"
    }
   ],
   "source": [
    "plt.plot(byDate['lat'])\n",
    "plt.xlabel('Date')"
   ]
  },
  {
   "cell_type": "code",
   "execution_count": 199,
   "metadata": {
    "collapsed": false
   },
   "outputs": [
    {
     "data": {
      "image/png": "[encoded data removed]",
      "text/plain": [
       "<matplotlib.figure.Figure at 0x1302eb0f0>"
      ]
     },
     "metadata": {},
     "output_type": "display_data"
    }
   ],
   "source": []
  },
  {
   "cell_type": "code",
   "execution_count": 201,
   "metadata": {
    "collapsed": false
   },
   "outputs": [
    {
     "data": {
      "image/png": "[encoded data removed]",
      "text/plain": [
       "<matplotlib.figure.Figure at 0x130442d68>"
      ]
     },
     "metadata": {},
     "output_type": "display_data"
    }
   ],
   "source": []
  },
  {
   "cell_type": "code",
   "execution_count": 202,
   "metadata": {
    "collapsed": false
   },
   "outputs": [
    {
     "data": {
      "image/png": "[encoded data removed]",
      "text/plain": [
       "<matplotlib.figure.Figure at 0x13030f8d0>"
      ]
     },
     "metadata": {},
     "output_type": "display_data"
    }
   ],
   "source": []
  },
  {
   "cell_type": "markdown",
   "metadata": {
    "collapsed": false
   },
   "source": [
    "____\n",
    "** Now let's move on to creating  heatmaps with seaborn and our data. We'll first need to restructure the dataframe so that the columns become the Hours and the Index becomes the Day of the Week. There are lots of ways to do this, but I would recommend trying to combine groupby with an [unstack](http://pandas.pydata.org/pandas-docs/stable/generated/pandas.DataFrame.unstack.html) method. Reference the solutions if you get stuck on this!**"
   ]
  },
  {
   "cell_type": "code",
   "execution_count": 203,
   "metadata": {
    "collapsed": false
   },
   "outputs": [
    {
     "data": {
      "text/html": [
       "<div>\n",
       "<table border=\"1\" class=\"dataframe\">\n",
       "  <thead>\n",
       "    <tr style=\"text-align: right;\">\n",
       "      <th>Hour</th>\n",
       "      <th>0</th>\n",
       "      <th>1</th>\n",
       "      <th>2</th>\n",
       "      <th>3</th>\n",
       "      <th>4</th>\n",
       "      <th>5</th>\n",
       "      <th>6</th>\n",
       "      <th>7</th>\n",
       "      <th>8</th>\n",
       "      <th>9</th>\n",
       "      <th>...</th>\n",
       "      <th>14</th>\n",
       "      <th>15</th>\n",
       "      <th>16</th>\n",
       "      <th>17</th>\n",
       "      <th>18</th>\n",
       "      <th>19</th>\n",
       "      <th>20</th>\n",
       "      <th>21</th>\n",
       "      <th>22</th>\n",
       "      <th>23</th>\n",
       "    </tr>\n",
       "    <tr>\n",
       "      <th>Day of Week</th>\n",
       "      <th></th>\n",
       "      <th></th>\n",
       "      <th></th>\n",
       "      <th></th>\n",
       "      <th></th>\n",
       "      <th></th>\n",
       "      <th></th>\n",
       "      <th></th>\n",
       "      <th></th>\n",
       "      <th></th>\n",
       "      <th></th>\n",
       "      <th></th>\n",
       "      <th></th>\n",
       "      <th></th>\n",
       "      <th></th>\n",
       "      <th></th>\n",
       "      <th></th>\n",
       "      <th></th>\n",
       "      <th></th>\n",
       "      <th></th>\n",
       "      <th></th>\n",
       "    </tr>\n",
       "  </thead>\n",
       "  <tbody>\n",
       "    <tr>\n",
       "      <th>Fri</th>\n",
       "      <td>275</td>\n",
       "      <td>235</td>\n",
       "      <td>191</td>\n",
       "      <td>175</td>\n",
       "      <td>201</td>\n",
       "      <td>194</td>\n",
       "      <td>372</td>\n",
       "      <td>598</td>\n",
       "      <td>742</td>\n",
       "      <td>752</td>\n",
       "      <td>...</td>\n",
       "      <td>932</td>\n",
       "      <td>980</td>\n",
       "      <td>1039</td>\n",
       "      <td>980</td>\n",
       "      <td>820</td>\n",
       "      <td>696</td>\n",
       "      <td>667</td>\n",
       "      <td>559</td>\n",
       "      <td>514</td>\n",
       "      <td>474</td>\n",
       "    </tr>\n",
       "    <tr>\n",
       "      <th>Mon</th>\n",
       "      <td>282</td>\n",
       "      <td>221</td>\n",
       "      <td>201</td>\n",
       "      <td>194</td>\n",
       "      <td>204</td>\n",
       "      <td>267</td>\n",
       "      <td>397</td>\n",
       "      <td>653</td>\n",
       "      <td>819</td>\n",
       "      <td>786</td>\n",
       "      <td>...</td>\n",
       "      <td>869</td>\n",
       "      <td>913</td>\n",
       "      <td>989</td>\n",
       "      <td>997</td>\n",
       "      <td>885</td>\n",
       "      <td>746</td>\n",
       "      <td>613</td>\n",
       "      <td>497</td>\n",
       "      <td>472</td>\n",
       "      <td>325</td>\n",
       "    </tr>\n",
       "    <tr>\n",
       "      <th>Sat</th>\n",
       "      <td>375</td>\n",
       "      <td>301</td>\n",
       "      <td>263</td>\n",
       "      <td>260</td>\n",
       "      <td>224</td>\n",
       "      <td>231</td>\n",
       "      <td>257</td>\n",
       "      <td>391</td>\n",
       "      <td>459</td>\n",
       "      <td>640</td>\n",
       "      <td>...</td>\n",
       "      <td>789</td>\n",
       "      <td>796</td>\n",
       "      <td>848</td>\n",
       "      <td>757</td>\n",
       "      <td>778</td>\n",
       "      <td>696</td>\n",
       "      <td>628</td>\n",
       "      <td>572</td>\n",
       "      <td>506</td>\n",
       "      <td>467</td>\n",
       "    </tr>\n",
       "    <tr>\n",
       "      <th>Sun</th>\n",
       "      <td>383</td>\n",
       "      <td>306</td>\n",
       "      <td>286</td>\n",
       "      <td>268</td>\n",
       "      <td>242</td>\n",
       "      <td>240</td>\n",
       "      <td>300</td>\n",
       "      <td>402</td>\n",
       "      <td>483</td>\n",
       "      <td>620</td>\n",
       "      <td>...</td>\n",
       "      <td>684</td>\n",
       "      <td>691</td>\n",
       "      <td>663</td>\n",
       "      <td>714</td>\n",
       "      <td>670</td>\n",
       "      <td>655</td>\n",
       "      <td>537</td>\n",
       "      <td>461</td>\n",
       "      <td>415</td>\n",
       "      <td>330</td>\n",
       "    </tr>\n",
       "    <tr>\n",
       "      <th>Thu</th>\n",
       "      <td>278</td>\n",
       "      <td>202</td>\n",
       "      <td>233</td>\n",
       "      <td>159</td>\n",
       "      <td>182</td>\n",
       "      <td>203</td>\n",
       "      <td>362</td>\n",
       "      <td>570</td>\n",
       "      <td>777</td>\n",
       "      <td>828</td>\n",
       "      <td>...</td>\n",
       "      <td>876</td>\n",
       "      <td>969</td>\n",
       "      <td>935</td>\n",
       "      <td>1013</td>\n",
       "      <td>810</td>\n",
       "      <td>698</td>\n",
       "      <td>617</td>\n",
       "      <td>553</td>\n",
       "      <td>424</td>\n",
       "      <td>354</td>\n",
       "    </tr>\n",
       "  </tbody>\n",
       "</table>\n",
       "<p>5 rows × 24 columns</p>\n",
       "</div>"
      ],
      "text/plain": [
       "Hour          0    1    2    3    4    5    6    7    8    9  ...    14   15  \\\n",
       "Day of Week                                                   ...              \n",
       "Fri          275  235  191  175  201  194  372  598  742  752 ...   932  980   \n",
       "Mon          282  221  201  194  204  267  397  653  819  786 ...   869  913   \n",
       "Sat          375  301  263  260  224  231  257  391  459  640 ...   789  796   \n",
       "Sun          383  306  286  268  242  240  300  402  483  620 ...   684  691   \n",
       "Thu          278  202  233  159  182  203  362  570  777  828 ...   876  969   \n",
       "\n",
       "Hour           16    17   18   19   20   21   22   23  \n",
       "Day of Week                                            \n",
       "Fri          1039   980  820  696  667  559  514  474  \n",
       "Mon           989   997  885  746  613  497  472  325  \n",
       "Sat           848   757  778  696  628  572  506  467  \n",
       "Sun           663   714  670  655  537  461  415  330  \n",
       "Thu           935  1013  810  698  617  553  424  354  \n",
       "\n",
       "[5 rows x 24 columns]"
      ]
     },
     "execution_count": 203,
     "metadata": {},
     "output_type": "execute_result"
    }
   ],
   "source": []
  },
  {
   "cell_type": "markdown",
   "metadata": {
    "collapsed": false
   },
   "source": [
    "** Now create a HeatMap using this new DataFrame. **"
   ]
  },
  {
   "cell_type": "code",
   "execution_count": 204,
   "metadata": {
    "collapsed": false
   },
   "outputs": [
    {
     "data": {
      "text/plain": [
       "<matplotlib.axes._subplots.AxesSubplot at 0x1253fa198>"
      ]
     },
     "execution_count": 204,
     "metadata": {},
     "output_type": "execute_result"
    },
    {
     "data": {
      "image/png": "[encoded data removed]",
      "text/plain": [
       "<matplotlib.figure.Figure at 0x12b4bc940>"
      ]
     },
     "metadata": {},
     "output_type": "display_data"
    }
   ],
   "source": []
  },
  {
   "cell_type": "markdown",
   "metadata": {
    "collapsed": false
   },
   "source": [
    "** Now create a clustermap using this DataFrame. **"
   ]
  },
  {
   "cell_type": "code",
   "execution_count": 205,
   "metadata": {
    "collapsed": false
   },
   "outputs": [
    {
     "data": {
      "text/plain": [
       "<seaborn.matrix.ClusterGrid at 0x1304fb668>"
      ]
     },
     "execution_count": 205,
     "metadata": {},
     "output_type": "execute_result"
    },
    {
     "data": {
      "image/png": "[encoded data removed]",
      "text/plain": [
       "<matplotlib.figure.Figure at 0x1304fb320>"
      ]
     },
     "metadata": {},
     "output_type": "display_data"
    }
   ],
   "source": []
  },
  {
   "cell_type": "markdown",
   "metadata": {},
   "source": [
    "** Now repeat these same plots and operations, for a DataFrame that shows the Month as the column. **"
   ]
  },
  {
   "cell_type": "code",
   "execution_count": 207,
   "metadata": {
    "collapsed": false
   },
   "outputs": [
    {
     "data": {
      "text/html": [
       "<div>\n",
       "<table border=\"1\" class=\"dataframe\">\n",
       "  <thead>\n",
       "    <tr style=\"text-align: right;\">\n",
       "      <th>Month</th>\n",
       "      <th>1</th>\n",
       "      <th>2</th>\n",
       "      <th>3</th>\n",
       "      <th>4</th>\n",
       "      <th>5</th>\n",
       "      <th>6</th>\n",
       "      <th>7</th>\n",
       "      <th>8</th>\n",
       "      <th>12</th>\n",
       "    </tr>\n",
       "    <tr>\n",
       "      <th>Day of Week</th>\n",
       "      <th></th>\n",
       "      <th></th>\n",
       "      <th></th>\n",
       "      <th></th>\n",
       "      <th></th>\n",
       "      <th></th>\n",
       "      <th></th>\n",
       "      <th></th>\n",
       "      <th></th>\n",
       "    </tr>\n",
       "  </thead>\n",
       "  <tbody>\n",
       "    <tr>\n",
       "      <th>Fri</th>\n",
       "      <td>1970</td>\n",
       "      <td>1581</td>\n",
       "      <td>1525</td>\n",
       "      <td>1958</td>\n",
       "      <td>1730</td>\n",
       "      <td>1649</td>\n",
       "      <td>2045</td>\n",
       "      <td>1310</td>\n",
       "      <td>1065</td>\n",
       "    </tr>\n",
       "    <tr>\n",
       "      <th>Mon</th>\n",
       "      <td>1727</td>\n",
       "      <td>1964</td>\n",
       "      <td>1535</td>\n",
       "      <td>1598</td>\n",
       "      <td>1779</td>\n",
       "      <td>1617</td>\n",
       "      <td>1692</td>\n",
       "      <td>1511</td>\n",
       "      <td>1257</td>\n",
       "    </tr>\n",
       "    <tr>\n",
       "      <th>Sat</th>\n",
       "      <td>2291</td>\n",
       "      <td>1441</td>\n",
       "      <td>1266</td>\n",
       "      <td>1734</td>\n",
       "      <td>1444</td>\n",
       "      <td>1388</td>\n",
       "      <td>1695</td>\n",
       "      <td>1099</td>\n",
       "      <td>978</td>\n",
       "    </tr>\n",
       "    <tr>\n",
       "      <th>Sun</th>\n",
       "      <td>1960</td>\n",
       "      <td>1229</td>\n",
       "      <td>1102</td>\n",
       "      <td>1488</td>\n",
       "      <td>1424</td>\n",
       "      <td>1333</td>\n",
       "      <td>1672</td>\n",
       "      <td>1021</td>\n",
       "      <td>907</td>\n",
       "    </tr>\n",
       "    <tr>\n",
       "      <th>Thu</th>\n",
       "      <td>1584</td>\n",
       "      <td>1596</td>\n",
       "      <td>1900</td>\n",
       "      <td>1601</td>\n",
       "      <td>1590</td>\n",
       "      <td>2065</td>\n",
       "      <td>1646</td>\n",
       "      <td>1230</td>\n",
       "      <td>1266</td>\n",
       "    </tr>\n",
       "  </tbody>\n",
       "</table>\n",
       "</div>"
      ],
      "text/plain": [
       "Month          1     2     3     4     5     6     7     8     12\n",
       "Day of Week                                                      \n",
       "Fri          1970  1581  1525  1958  1730  1649  2045  1310  1065\n",
       "Mon          1727  1964  1535  1598  1779  1617  1692  1511  1257\n",
       "Sat          2291  1441  1266  1734  1444  1388  1695  1099   978\n",
       "Sun          1960  1229  1102  1488  1424  1333  1672  1021   907\n",
       "Thu          1584  1596  1900  1601  1590  2065  1646  1230  1266"
      ]
     },
     "execution_count": 207,
     "metadata": {},
     "output_type": "execute_result"
    }
   ],
   "source": []
  },
  {
   "cell_type": "code",
   "execution_count": 208,
   "metadata": {
    "collapsed": false
   },
   "outputs": [
    {
     "data": {
      "text/plain": [
       "<matplotlib.axes._subplots.AxesSubplot at 0x1304fbd30>"
      ]
     },
     "execution_count": 208,
     "metadata": {},
     "output_type": "execute_result"
    },
    {
     "data": {
      "image/png": "[encoded data removed]",
      "text/plain": [
       "<matplotlib.figure.Figure at 0x12a1a2a58>"
      ]
     },
     "metadata": {},
     "output_type": "display_data"
    }
   ],
   "source": []
  },
  {
   "cell_type": "code",
   "execution_count": 209,
   "metadata": {
    "collapsed": false
   },
   "outputs": [
    {
     "data": {
      "text/plain": [
       "<seaborn.matrix.ClusterGrid at 0x12a1a61d0>"
      ]
     },
     "execution_count": 209,
     "metadata": {},
     "output_type": "execute_result"
    },
    {
     "data": {
      "image/png": "[encoded data removed]",
      "text/plain": [
       "<matplotlib.figure.Figure at 0x12a1a63c8>"
      ]
     },
     "metadata": {},
     "output_type": "display_data"
    }
   ],
   "source": []
  },
  {
   "cell_type": "markdown",
   "metadata": {
    "collapsed": true
   },
   "source": [
    "**Continue exploring the Data however you see fit!**\n",
    "# Great Job!"
   ]
  }
 ],
 "metadata": {
  "kernelspec": {
   "display_name": "Python 3",
   "language": "python",
   "name": "python3"
  },
  "language_info": {
   "codemirror_mode": {
    "name": "ipython",
    "version": 3
   },
   "file_extension": ".py",
   "mimetype": "text/x-python",
   "name": "python",
   "nbconvert_exporter": "python",
   "pygments_lexer": "ipython3",
   "version": "3.5.1"
  }
 },
 "nbformat": 4,
 "nbformat_minor": 0
}
